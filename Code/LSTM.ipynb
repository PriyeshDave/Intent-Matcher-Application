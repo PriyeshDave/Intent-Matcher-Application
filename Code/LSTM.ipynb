{
 "cells": [
  {
   "cell_type": "code",
   "execution_count": 1,
   "metadata": {},
   "outputs": [],
   "source": [
    "import pandas as pd\n",
    "import numpy as np\n",
    "from gensim.utils import simple_preprocess\n",
    "from gensim.models import Word2Vec"
   ]
  },
  {
   "cell_type": "code",
   "execution_count": 2,
   "metadata": {},
   "outputs": [],
   "source": [
    "cleaned_data = pd.read_csv('../Datasets/Cleaned-Data.csv')\n",
    "artificial_features = pd.read_csv('../Datasets/Artificial_Features.csv')"
   ]
  },
  {
   "cell_type": "code",
   "execution_count": 3,
   "metadata": {},
   "outputs": [
    {
     "data": {
      "text/html": [
       "<div>\n",
       "<style scoped>\n",
       "    .dataframe tbody tr th:only-of-type {\n",
       "        vertical-align: middle;\n",
       "    }\n",
       "\n",
       "    .dataframe tbody tr th {\n",
       "        vertical-align: top;\n",
       "    }\n",
       "\n",
       "    .dataframe thead th {\n",
       "        text-align: right;\n",
       "    }\n",
       "</style>\n",
       "<table border=\"1\" class=\"dataframe\">\n",
       "  <thead>\n",
       "    <tr style=\"text-align: right;\">\n",
       "      <th></th>\n",
       "      <th>question1</th>\n",
       "      <th>question2</th>\n",
       "      <th>is_duplicate</th>\n",
       "      <th>Q1_cleaned</th>\n",
       "      <th>Q2_cleaned</th>\n",
       "    </tr>\n",
       "  </thead>\n",
       "  <tbody>\n",
       "    <tr>\n",
       "      <th>0</th>\n",
       "      <td>What is the step by step guide to invest in sh...</td>\n",
       "      <td>What is the step by step guide to invest in sh...</td>\n",
       "      <td>0</td>\n",
       "      <td>step step guide invest share market india</td>\n",
       "      <td>step step guide invest share market</td>\n",
       "    </tr>\n",
       "    <tr>\n",
       "      <th>1</th>\n",
       "      <td>What is the story of Kohinoor (Koh-i-Noor) Dia...</td>\n",
       "      <td>What would happen if the Indian government sto...</td>\n",
       "      <td>0</td>\n",
       "      <td>story kohinoor koh noor diamond</td>\n",
       "      <td>would happen indian government stole kohinoor ...</td>\n",
       "    </tr>\n",
       "    <tr>\n",
       "      <th>2</th>\n",
       "      <td>How can I increase the speed of my internet co...</td>\n",
       "      <td>How can Internet speed be increased by hacking...</td>\n",
       "      <td>0</td>\n",
       "      <td>increase speed internet connection using vpn</td>\n",
       "      <td>internet speed increased hacking dns</td>\n",
       "    </tr>\n",
       "    <tr>\n",
       "      <th>3</th>\n",
       "      <td>Why am I mentally very lonely? How can I solve...</td>\n",
       "      <td>Find the remainder when [math]23^{24}[/math] i...</td>\n",
       "      <td>0</td>\n",
       "      <td>mentally lonely solve</td>\n",
       "      <td>find remainder math math divided</td>\n",
       "    </tr>\n",
       "    <tr>\n",
       "      <th>4</th>\n",
       "      <td>Which one dissolve in water quikly sugar, salt...</td>\n",
       "      <td>Which fish would survive in salt water?</td>\n",
       "      <td>0</td>\n",
       "      <td>one dissolve water quikly sugar salt methane c...</td>\n",
       "      <td>fish would survive salt water</td>\n",
       "    </tr>\n",
       "  </tbody>\n",
       "</table>\n",
       "</div>"
      ],
      "text/plain": [
       "                                           question1  \\\n",
       "0  What is the step by step guide to invest in sh...   \n",
       "1  What is the story of Kohinoor (Koh-i-Noor) Dia...   \n",
       "2  How can I increase the speed of my internet co...   \n",
       "3  Why am I mentally very lonely? How can I solve...   \n",
       "4  Which one dissolve in water quikly sugar, salt...   \n",
       "\n",
       "                                           question2  is_duplicate  \\\n",
       "0  What is the step by step guide to invest in sh...             0   \n",
       "1  What would happen if the Indian government sto...             0   \n",
       "2  How can Internet speed be increased by hacking...             0   \n",
       "3  Find the remainder when [math]23^{24}[/math] i...             0   \n",
       "4            Which fish would survive in salt water?             0   \n",
       "\n",
       "                                          Q1_cleaned  \\\n",
       "0          step step guide invest share market india   \n",
       "1                    story kohinoor koh noor diamond   \n",
       "2       increase speed internet connection using vpn   \n",
       "3                              mentally lonely solve   \n",
       "4  one dissolve water quikly sugar salt methane c...   \n",
       "\n",
       "                                          Q2_cleaned  \n",
       "0                step step guide invest share market  \n",
       "1  would happen indian government stole kohinoor ...  \n",
       "2               internet speed increased hacking dns  \n",
       "3                   find remainder math math divided  \n",
       "4                      fish would survive salt water  "
      ]
     },
     "execution_count": 3,
     "metadata": {},
     "output_type": "execute_result"
    }
   ],
   "source": [
    "cleaned_data.head()"
   ]
  },
  {
   "cell_type": "code",
   "execution_count": 4,
   "metadata": {},
   "outputs": [
    {
     "data": {
      "text/plain": [
       "(404287, 5)"
      ]
     },
     "execution_count": 4,
     "metadata": {},
     "output_type": "execute_result"
    }
   ],
   "source": [
    "cleaned_data.shape"
   ]
  },
  {
   "cell_type": "code",
   "execution_count": 5,
   "metadata": {},
   "outputs": [
    {
     "data": {
      "text/plain": [
       "question1         0\n",
       "question2         0\n",
       "is_duplicate      0\n",
       "Q1_cleaned      177\n",
       "Q2_cleaned      175\n",
       "dtype: int64"
      ]
     },
     "execution_count": 5,
     "metadata": {},
     "output_type": "execute_result"
    }
   ],
   "source": [
    "cleaned_data.isnull().sum()"
   ]
  },
  {
   "cell_type": "code",
   "execution_count": 6,
   "metadata": {},
   "outputs": [],
   "source": [
    "cleaned_data.dropna(inplace=True)"
   ]
  },
  {
   "cell_type": "code",
   "execution_count": 7,
   "metadata": {},
   "outputs": [
    {
     "data": {
      "text/html": [
       "<div>\n",
       "<style scoped>\n",
       "    .dataframe tbody tr th:only-of-type {\n",
       "        vertical-align: middle;\n",
       "    }\n",
       "\n",
       "    .dataframe tbody tr th {\n",
       "        vertical-align: top;\n",
       "    }\n",
       "\n",
       "    .dataframe thead th {\n",
       "        text-align: right;\n",
       "    }\n",
       "</style>\n",
       "<table border=\"1\" class=\"dataframe\">\n",
       "  <thead>\n",
       "    <tr style=\"text-align: right;\">\n",
       "      <th></th>\n",
       "      <th>q1_len</th>\n",
       "      <th>q2_len</th>\n",
       "      <th>q1_words</th>\n",
       "      <th>q2_words</th>\n",
       "      <th>common_words</th>\n",
       "      <th>total_words</th>\n",
       "      <th>words_share</th>\n",
       "      <th>token_set</th>\n",
       "      <th>token_sort</th>\n",
       "      <th>partial_token_set</th>\n",
       "      <th>partial_token_sort</th>\n",
       "    </tr>\n",
       "  </thead>\n",
       "  <tbody>\n",
       "    <tr>\n",
       "      <th>0</th>\n",
       "      <td>28</td>\n",
       "      <td>27</td>\n",
       "      <td>4</td>\n",
       "      <td>4</td>\n",
       "      <td>2</td>\n",
       "      <td>8</td>\n",
       "      <td>0.25</td>\n",
       "      <td>71</td>\n",
       "      <td>69</td>\n",
       "      <td>100</td>\n",
       "      <td>75</td>\n",
       "    </tr>\n",
       "    <tr>\n",
       "      <th>1</th>\n",
       "      <td>33</td>\n",
       "      <td>34</td>\n",
       "      <td>4</td>\n",
       "      <td>4</td>\n",
       "      <td>2</td>\n",
       "      <td>8</td>\n",
       "      <td>0.25</td>\n",
       "      <td>75</td>\n",
       "      <td>66</td>\n",
       "      <td>100</td>\n",
       "      <td>64</td>\n",
       "    </tr>\n",
       "    <tr>\n",
       "      <th>2</th>\n",
       "      <td>83</td>\n",
       "      <td>7</td>\n",
       "      <td>14</td>\n",
       "      <td>2</td>\n",
       "      <td>1</td>\n",
       "      <td>16</td>\n",
       "      <td>0.06</td>\n",
       "      <td>60</td>\n",
       "      <td>13</td>\n",
       "      <td>100</td>\n",
       "      <td>57</td>\n",
       "    </tr>\n",
       "    <tr>\n",
       "      <th>3</th>\n",
       "      <td>23</td>\n",
       "      <td>18</td>\n",
       "      <td>4</td>\n",
       "      <td>3</td>\n",
       "      <td>2</td>\n",
       "      <td>7</td>\n",
       "      <td>0.29</td>\n",
       "      <td>76</td>\n",
       "      <td>54</td>\n",
       "      <td>100</td>\n",
       "      <td>50</td>\n",
       "    </tr>\n",
       "    <tr>\n",
       "      <th>4</th>\n",
       "      <td>53</td>\n",
       "      <td>84</td>\n",
       "      <td>8</td>\n",
       "      <td>10</td>\n",
       "      <td>0</td>\n",
       "      <td>14</td>\n",
       "      <td>0.00</td>\n",
       "      <td>20</td>\n",
       "      <td>22</td>\n",
       "      <td>26</td>\n",
       "      <td>33</td>\n",
       "    </tr>\n",
       "  </tbody>\n",
       "</table>\n",
       "</div>"
      ],
      "text/plain": [
       "   q1_len  q2_len  q1_words  q2_words  common_words  total_words  words_share  \\\n",
       "0      28      27         4         4             2            8         0.25   \n",
       "1      33      34         4         4             2            8         0.25   \n",
       "2      83       7        14         2             1           16         0.06   \n",
       "3      23      18         4         3             2            7         0.29   \n",
       "4      53      84         8        10             0           14         0.00   \n",
       "\n",
       "   token_set  token_sort  partial_token_set  partial_token_sort  \n",
       "0         71          69                100                  75  \n",
       "1         75          66                100                  64  \n",
       "2         60          13                100                  57  \n",
       "3         76          54                100                  50  \n",
       "4         20          22                 26                  33  "
      ]
     },
     "execution_count": 7,
     "metadata": {},
     "output_type": "execute_result"
    }
   ],
   "source": [
    "artificial_features.head()"
   ]
  },
  {
   "cell_type": "code",
   "execution_count": 8,
   "metadata": {},
   "outputs": [
    {
     "data": {
      "text/plain": [
       "(100000, 11)"
      ]
     },
     "execution_count": 8,
     "metadata": {},
     "output_type": "execute_result"
    }
   ],
   "source": [
    "artificial_features.shape"
   ]
  },
  {
   "cell_type": "code",
   "execution_count": 9,
   "metadata": {},
   "outputs": [],
   "source": [
    "# dataset = pd.concat([cleaned_data, artificial_features], axis=1)\n",
    "# dataset = dataset.sample(100000)\n",
    "# dataset.shape"
   ]
  },
  {
   "cell_type": "code",
   "execution_count": 10,
   "metadata": {},
   "outputs": [],
   "source": [
    "# dataset.head()"
   ]
  },
  {
   "cell_type": "code",
   "execution_count": 11,
   "metadata": {},
   "outputs": [],
   "source": [
    "# cleaned_data = dataset[cleaned_data.columns]\n",
    "# artificial_features = dataset[artificial_features.columns]\n",
    "# cleaned_data.shape, artificial_features.shape"
   ]
  },
  {
   "cell_type": "code",
   "execution_count": 12,
   "metadata": {},
   "outputs": [],
   "source": [
    "cleaned_data = cleaned_data.sample(100000)"
   ]
  },
  {
   "cell_type": "code",
   "execution_count": 13,
   "metadata": {},
   "outputs": [
    {
     "data": {
      "text/plain": [
       "(100000, 5)"
      ]
     },
     "execution_count": 13,
     "metadata": {},
     "output_type": "execute_result"
    }
   ],
   "source": [
    "cleaned_data.shape"
   ]
  },
  {
   "cell_type": "markdown",
   "metadata": {},
   "source": [
    "# Word2Vec"
   ]
  },
  {
   "cell_type": "code",
   "execution_count": 14,
   "metadata": {},
   "outputs": [
    {
     "data": {
      "text/plain": [
       "(100000, 5)"
      ]
     },
     "execution_count": 14,
     "metadata": {},
     "output_type": "execute_result"
    }
   ],
   "source": [
    "cleaned_data.shape"
   ]
  },
  {
   "cell_type": "code",
   "execution_count": 15,
   "metadata": {},
   "outputs": [],
   "source": [
    "questions = cleaned_data['Q1_cleaned'].tolist() + cleaned_data['Q2_cleaned'].tolist()"
   ]
  },
  {
   "cell_type": "code",
   "execution_count": 16,
   "metadata": {},
   "outputs": [
    {
     "data": {
      "text/html": [
       "<div>\n",
       "<style scoped>\n",
       "    .dataframe tbody tr th:only-of-type {\n",
       "        vertical-align: middle;\n",
       "    }\n",
       "\n",
       "    .dataframe tbody tr th {\n",
       "        vertical-align: top;\n",
       "    }\n",
       "\n",
       "    .dataframe thead th {\n",
       "        text-align: right;\n",
       "    }\n",
       "</style>\n",
       "<table border=\"1\" class=\"dataframe\">\n",
       "  <thead>\n",
       "    <tr style=\"text-align: right;\">\n",
       "      <th></th>\n",
       "      <th>Questions</th>\n",
       "    </tr>\n",
       "  </thead>\n",
       "  <tbody>\n",
       "    <tr>\n",
       "      <th>0</th>\n",
       "      <td>get ripped</td>\n",
       "    </tr>\n",
       "    <tr>\n",
       "      <th>1</th>\n",
       "      <td>connect simulink plc</td>\n",
       "    </tr>\n",
       "    <tr>\n",
       "      <th>2</th>\n",
       "      <td>suggestions ideas improve english writing skills</td>\n",
       "    </tr>\n",
       "    <tr>\n",
       "      <th>3</th>\n",
       "      <td>buy moon</td>\n",
       "    </tr>\n",
       "    <tr>\n",
       "      <th>4</th>\n",
       "      <td>difference international company multinational...</td>\n",
       "    </tr>\n",
       "    <tr>\n",
       "      <th>...</th>\n",
       "      <td>...</td>\n",
       "    </tr>\n",
       "    <tr>\n",
       "      <th>199995</th>\n",
       "      <td>b com h student go actuarial science yes statu...</td>\n",
       "    </tr>\n",
       "    <tr>\n",
       "      <th>199996</th>\n",
       "      <td>pikachu better starter three others</td>\n",
       "    </tr>\n",
       "    <tr>\n",
       "      <th>199997</th>\n",
       "      <td>change default browser</td>\n",
       "    </tr>\n",
       "    <tr>\n",
       "      <th>199998</th>\n",
       "      <td>like print something</td>\n",
       "    </tr>\n",
       "    <tr>\n",
       "      <th>199999</th>\n",
       "      <td>universities air methods recruit new grads maj...</td>\n",
       "    </tr>\n",
       "  </tbody>\n",
       "</table>\n",
       "<p>200000 rows × 1 columns</p>\n",
       "</div>"
      ],
      "text/plain": [
       "                                                Questions\n",
       "0                                              get ripped\n",
       "1                                    connect simulink plc\n",
       "2        suggestions ideas improve english writing skills\n",
       "3                                                buy moon\n",
       "4       difference international company multinational...\n",
       "...                                                   ...\n",
       "199995  b com h student go actuarial science yes statu...\n",
       "199996                pikachu better starter three others\n",
       "199997                             change default browser\n",
       "199998                               like print something\n",
       "199999  universities air methods recruit new grads maj...\n",
       "\n",
       "[200000 rows x 1 columns]"
      ]
     },
     "execution_count": 16,
     "metadata": {},
     "output_type": "execute_result"
    }
   ],
   "source": [
    "questions = pd.DataFrame(questions, columns=['Questions'])\n",
    "questions"
   ]
  },
  {
   "cell_type": "code",
   "execution_count": 17,
   "metadata": {},
   "outputs": [
    {
     "data": {
      "text/plain": [
       "0"
      ]
     },
     "execution_count": 17,
     "metadata": {},
     "output_type": "execute_result"
    }
   ],
   "source": [
    "questions['Questions'].isnull().sum()"
   ]
  },
  {
   "cell_type": "code",
   "execution_count": 18,
   "metadata": {},
   "outputs": [
    {
     "name": "stdout",
     "output_type": "stream",
     "text": [
      "<class 'pandas.core.frame.DataFrame'>\n",
      "RangeIndex: 200000 entries, 0 to 199999\n",
      "Data columns (total 1 columns):\n",
      " #   Column     Non-Null Count   Dtype \n",
      "---  ------     --------------   ----- \n",
      " 0   Questions  200000 non-null  object\n",
      "dtypes: object(1)\n",
      "memory usage: 1.5+ MB\n"
     ]
    }
   ],
   "source": [
    "questions.info()"
   ]
  },
  {
   "cell_type": "code",
   "execution_count": 19,
   "metadata": {},
   "outputs": [
    {
     "data": {
      "text/html": [
       "<div>\n",
       "<style scoped>\n",
       "    .dataframe tbody tr th:only-of-type {\n",
       "        vertical-align: middle;\n",
       "    }\n",
       "\n",
       "    .dataframe tbody tr th {\n",
       "        vertical-align: top;\n",
       "    }\n",
       "\n",
       "    .dataframe thead th {\n",
       "        text-align: right;\n",
       "    }\n",
       "</style>\n",
       "<table border=\"1\" class=\"dataframe\">\n",
       "  <thead>\n",
       "    <tr style=\"text-align: right;\">\n",
       "      <th></th>\n",
       "      <th>Questions</th>\n",
       "      <th>Tokens</th>\n",
       "    </tr>\n",
       "  </thead>\n",
       "  <tbody>\n",
       "    <tr>\n",
       "      <th>0</th>\n",
       "      <td>get ripped</td>\n",
       "      <td>[get, ripped]</td>\n",
       "    </tr>\n",
       "    <tr>\n",
       "      <th>1</th>\n",
       "      <td>connect simulink plc</td>\n",
       "      <td>[connect, simulink, plc]</td>\n",
       "    </tr>\n",
       "    <tr>\n",
       "      <th>2</th>\n",
       "      <td>suggestions ideas improve english writing skills</td>\n",
       "      <td>[suggestions, ideas, improve, english, writing...</td>\n",
       "    </tr>\n",
       "    <tr>\n",
       "      <th>3</th>\n",
       "      <td>buy moon</td>\n",
       "      <td>[buy, moon]</td>\n",
       "    </tr>\n",
       "    <tr>\n",
       "      <th>4</th>\n",
       "      <td>difference international company multinational...</td>\n",
       "      <td>[difference, international, company, multinati...</td>\n",
       "    </tr>\n",
       "  </tbody>\n",
       "</table>\n",
       "</div>"
      ],
      "text/plain": [
       "                                           Questions  \\\n",
       "0                                         get ripped   \n",
       "1                               connect simulink plc   \n",
       "2   suggestions ideas improve english writing skills   \n",
       "3                                           buy moon   \n",
       "4  difference international company multinational...   \n",
       "\n",
       "                                              Tokens  \n",
       "0                                      [get, ripped]  \n",
       "1                           [connect, simulink, plc]  \n",
       "2  [suggestions, ideas, improve, english, writing...  \n",
       "3                                        [buy, moon]  \n",
       "4  [difference, international, company, multinati...  "
      ]
     },
     "execution_count": 19,
     "metadata": {},
     "output_type": "execute_result"
    }
   ],
   "source": [
    "questions['Tokens'] = [simple_preprocess(str(sentence)) for sentence in questions['Questions']]\n",
    "questions.head()"
   ]
  },
  {
   "cell_type": "code",
   "execution_count": 20,
   "metadata": {},
   "outputs": [],
   "source": [
    "vector_size = 500\n",
    "word2vec_model = Word2Vec(questions['Tokens'], min_count=1, window=10, vector_size=vector_size, workers=8, sg=1)"
   ]
  },
  {
   "cell_type": "code",
   "execution_count": 21,
   "metadata": {},
   "outputs": [],
   "source": [
    "#word2vec_model.build_vocab(questions['tokens'], progress_per=1000)"
   ]
  },
  {
   "cell_type": "code",
   "execution_count": 22,
   "metadata": {},
   "outputs": [],
   "source": [
    "#word2vec_model.train(questions['tokens'], total_examples=word2vec_model.corpus_count, epochs=word2vec_model.epochs)"
   ]
  },
  {
   "cell_type": "code",
   "execution_count": 23,
   "metadata": {},
   "outputs": [],
   "source": [
    "def avgVectors(tokens):\n",
    "  avg_vector = np.mean([word2vec_model.wv.get_vector(token) for token in tokens], axis=0)\n",
    "  return avg_vector"
   ]
  },
  {
   "cell_type": "code",
   "execution_count": 24,
   "metadata": {},
   "outputs": [
    {
     "name": "stderr",
     "output_type": "stream",
     "text": [
      "c:\\Users\\Priyesh Dave\\AppData\\Local\\Programs\\Python\\Python39\\lib\\site-packages\\numpy\\core\\fromnumeric.py:3440: RuntimeWarning: Mean of empty slice.\n",
      "  return _methods._mean(a, axis=axis, dtype=dtype,\n"
     ]
    }
   ],
   "source": [
    "questions['avg w2v vectorized'] = questions['Tokens'].apply(avgVectors)"
   ]
  },
  {
   "cell_type": "code",
   "execution_count": 25,
   "metadata": {},
   "outputs": [
    {
     "data": {
      "text/html": [
       "<div>\n",
       "<style scoped>\n",
       "    .dataframe tbody tr th:only-of-type {\n",
       "        vertical-align: middle;\n",
       "    }\n",
       "\n",
       "    .dataframe tbody tr th {\n",
       "        vertical-align: top;\n",
       "    }\n",
       "\n",
       "    .dataframe thead th {\n",
       "        text-align: right;\n",
       "    }\n",
       "</style>\n",
       "<table border=\"1\" class=\"dataframe\">\n",
       "  <thead>\n",
       "    <tr style=\"text-align: right;\">\n",
       "      <th></th>\n",
       "      <th>Questions</th>\n",
       "      <th>Tokens</th>\n",
       "      <th>avg w2v vectorized</th>\n",
       "    </tr>\n",
       "  </thead>\n",
       "  <tbody>\n",
       "    <tr>\n",
       "      <th>0</th>\n",
       "      <td>get ripped</td>\n",
       "      <td>[get, ripped]</td>\n",
       "      <td>[0.1591037, 0.12783964, 0.19466783, 0.14870681...</td>\n",
       "    </tr>\n",
       "    <tr>\n",
       "      <th>1</th>\n",
       "      <td>connect simulink plc</td>\n",
       "      <td>[connect, simulink, plc]</td>\n",
       "      <td>[0.0911453, 0.05019818, 0.25945228, 0.03318710...</td>\n",
       "    </tr>\n",
       "    <tr>\n",
       "      <th>2</th>\n",
       "      <td>suggestions ideas improve english writing skills</td>\n",
       "      <td>[suggestions, ideas, improve, english, writing...</td>\n",
       "      <td>[0.10612717, 0.1330968, 0.20293021, -0.0109047...</td>\n",
       "    </tr>\n",
       "    <tr>\n",
       "      <th>3</th>\n",
       "      <td>buy moon</td>\n",
       "      <td>[buy, moon]</td>\n",
       "      <td>[0.21124767, -0.03409654, 0.29923323, 0.105853...</td>\n",
       "    </tr>\n",
       "    <tr>\n",
       "      <th>4</th>\n",
       "      <td>difference international company multinational...</td>\n",
       "      <td>[difference, international, company, multinati...</td>\n",
       "      <td>[0.060116827, 0.13761255, 0.30151713, 0.133050...</td>\n",
       "    </tr>\n",
       "  </tbody>\n",
       "</table>\n",
       "</div>"
      ],
      "text/plain": [
       "                                           Questions  \\\n",
       "0                                         get ripped   \n",
       "1                               connect simulink plc   \n",
       "2   suggestions ideas improve english writing skills   \n",
       "3                                           buy moon   \n",
       "4  difference international company multinational...   \n",
       "\n",
       "                                              Tokens  \\\n",
       "0                                      [get, ripped]   \n",
       "1                           [connect, simulink, plc]   \n",
       "2  [suggestions, ideas, improve, english, writing...   \n",
       "3                                        [buy, moon]   \n",
       "4  [difference, international, company, multinati...   \n",
       "\n",
       "                                  avg w2v vectorized  \n",
       "0  [0.1591037, 0.12783964, 0.19466783, 0.14870681...  \n",
       "1  [0.0911453, 0.05019818, 0.25945228, 0.03318710...  \n",
       "2  [0.10612717, 0.1330968, 0.20293021, -0.0109047...  \n",
       "3  [0.21124767, -0.03409654, 0.29923323, 0.105853...  \n",
       "4  [0.060116827, 0.13761255, 0.30151713, 0.133050...  "
      ]
     },
     "execution_count": 25,
     "metadata": {},
     "output_type": "execute_result"
    }
   ],
   "source": [
    "questions.head()"
   ]
  },
  {
   "cell_type": "code",
   "execution_count": 26,
   "metadata": {},
   "outputs": [
    {
     "data": {
      "text/plain": [
       "200000"
      ]
     },
     "execution_count": 26,
     "metadata": {},
     "output_type": "execute_result"
    }
   ],
   "source": [
    "len(questions['avg w2v vectorized'].to_list())"
   ]
  },
  {
   "cell_type": "code",
   "execution_count": 27,
   "metadata": {},
   "outputs": [
    {
     "data": {
      "text/plain": [
       "(200000,)"
      ]
     },
     "execution_count": 27,
     "metadata": {},
     "output_type": "execute_result"
    }
   ],
   "source": [
    "questions['avg w2v vectorized'].shape"
   ]
  },
  {
   "cell_type": "code",
   "execution_count": 28,
   "metadata": {},
   "outputs": [
    {
     "data": {
      "text/plain": [
       "100000"
      ]
     },
     "execution_count": 28,
     "metadata": {},
     "output_type": "execute_result"
    }
   ],
   "source": [
    "middle = int(questions['avg w2v vectorized'].shape[0]/2)\n",
    "middle"
   ]
  },
  {
   "cell_type": "code",
   "execution_count": 29,
   "metadata": {},
   "outputs": [],
   "source": [
    "question1 , question2 = questions['avg w2v vectorized'].iloc[0:middle] , questions['avg w2v vectorized'].iloc[middle :]"
   ]
  },
  {
   "cell_type": "code",
   "execution_count": 30,
   "metadata": {},
   "outputs": [],
   "source": [
    "question1 = question1.reset_index().drop('index', axis=1).rename(columns={'avg w2v vectorized': 'Q1'})"
   ]
  },
  {
   "cell_type": "code",
   "execution_count": 31,
   "metadata": {},
   "outputs": [],
   "source": [
    "question2 = question2.reset_index().drop('index', axis=1).rename(columns={'avg w2v vectorized': 'Q2'})"
   ]
  },
  {
   "cell_type": "code",
   "execution_count": 32,
   "metadata": {},
   "outputs": [
    {
     "data": {
      "text/html": [
       "<div>\n",
       "<style scoped>\n",
       "    .dataframe tbody tr th:only-of-type {\n",
       "        vertical-align: middle;\n",
       "    }\n",
       "\n",
       "    .dataframe tbody tr th {\n",
       "        vertical-align: top;\n",
       "    }\n",
       "\n",
       "    .dataframe thead th {\n",
       "        text-align: right;\n",
       "    }\n",
       "</style>\n",
       "<table border=\"1\" class=\"dataframe\">\n",
       "  <thead>\n",
       "    <tr style=\"text-align: right;\">\n",
       "      <th></th>\n",
       "      <th>Q1</th>\n",
       "    </tr>\n",
       "  </thead>\n",
       "  <tbody>\n",
       "    <tr>\n",
       "      <th>0</th>\n",
       "      <td>[0.1591037, 0.12783964, 0.19466783, 0.14870681...</td>\n",
       "    </tr>\n",
       "    <tr>\n",
       "      <th>1</th>\n",
       "      <td>[0.0911453, 0.05019818, 0.25945228, 0.03318710...</td>\n",
       "    </tr>\n",
       "    <tr>\n",
       "      <th>2</th>\n",
       "      <td>[0.10612717, 0.1330968, 0.20293021, -0.0109047...</td>\n",
       "    </tr>\n",
       "    <tr>\n",
       "      <th>3</th>\n",
       "      <td>[0.21124767, -0.03409654, 0.29923323, 0.105853...</td>\n",
       "    </tr>\n",
       "    <tr>\n",
       "      <th>4</th>\n",
       "      <td>[0.060116827, 0.13761255, 0.30151713, 0.133050...</td>\n",
       "    </tr>\n",
       "    <tr>\n",
       "      <th>...</th>\n",
       "      <td>...</td>\n",
       "    </tr>\n",
       "    <tr>\n",
       "      <th>99995</th>\n",
       "      <td>[-0.0023616066, 0.20501213, 0.28903687, 0.1376...</td>\n",
       "    </tr>\n",
       "    <tr>\n",
       "      <th>99996</th>\n",
       "      <td>[0.09110853, 0.14864902, 0.24272138, 0.1540661...</td>\n",
       "    </tr>\n",
       "    <tr>\n",
       "      <th>99997</th>\n",
       "      <td>[0.061042443, 0.079808444, 0.21341662, 0.19023...</td>\n",
       "    </tr>\n",
       "    <tr>\n",
       "      <th>99998</th>\n",
       "      <td>[0.37136382, 0.047368728, 0.16829772, 0.148179...</td>\n",
       "    </tr>\n",
       "    <tr>\n",
       "      <th>99999</th>\n",
       "      <td>[0.34249508, 0.3953077, 0.108111314, 0.0481300...</td>\n",
       "    </tr>\n",
       "  </tbody>\n",
       "</table>\n",
       "<p>100000 rows × 1 columns</p>\n",
       "</div>"
      ],
      "text/plain": [
       "                                                      Q1\n",
       "0      [0.1591037, 0.12783964, 0.19466783, 0.14870681...\n",
       "1      [0.0911453, 0.05019818, 0.25945228, 0.03318710...\n",
       "2      [0.10612717, 0.1330968, 0.20293021, -0.0109047...\n",
       "3      [0.21124767, -0.03409654, 0.29923323, 0.105853...\n",
       "4      [0.060116827, 0.13761255, 0.30151713, 0.133050...\n",
       "...                                                  ...\n",
       "99995  [-0.0023616066, 0.20501213, 0.28903687, 0.1376...\n",
       "99996  [0.09110853, 0.14864902, 0.24272138, 0.1540661...\n",
       "99997  [0.061042443, 0.079808444, 0.21341662, 0.19023...\n",
       "99998  [0.37136382, 0.047368728, 0.16829772, 0.148179...\n",
       "99999  [0.34249508, 0.3953077, 0.108111314, 0.0481300...\n",
       "\n",
       "[100000 rows x 1 columns]"
      ]
     },
     "execution_count": 32,
     "metadata": {},
     "output_type": "execute_result"
    }
   ],
   "source": [
    "question1"
   ]
  },
  {
   "cell_type": "code",
   "execution_count": 33,
   "metadata": {},
   "outputs": [
    {
     "data": {
      "text/html": [
       "<div>\n",
       "<style scoped>\n",
       "    .dataframe tbody tr th:only-of-type {\n",
       "        vertical-align: middle;\n",
       "    }\n",
       "\n",
       "    .dataframe tbody tr th {\n",
       "        vertical-align: top;\n",
       "    }\n",
       "\n",
       "    .dataframe thead th {\n",
       "        text-align: right;\n",
       "    }\n",
       "</style>\n",
       "<table border=\"1\" class=\"dataframe\">\n",
       "  <thead>\n",
       "    <tr style=\"text-align: right;\">\n",
       "      <th></th>\n",
       "      <th>Q2</th>\n",
       "    </tr>\n",
       "  </thead>\n",
       "  <tbody>\n",
       "    <tr>\n",
       "      <th>0</th>\n",
       "      <td>[0.1351882, 0.20211737, 0.24466793, 0.18238716...</td>\n",
       "    </tr>\n",
       "    <tr>\n",
       "      <th>1</th>\n",
       "      <td>[0.18062268, 0.20486212, 0.44039485, 0.2012050...</td>\n",
       "    </tr>\n",
       "    <tr>\n",
       "      <th>2</th>\n",
       "      <td>[0.16359526, 0.17857885, 0.16626261, -0.018835...</td>\n",
       "    </tr>\n",
       "    <tr>\n",
       "      <th>3</th>\n",
       "      <td>[0.13385396, 0.045677263, 0.33972287, 0.075053...</td>\n",
       "    </tr>\n",
       "    <tr>\n",
       "      <th>4</th>\n",
       "      <td>[0.061009254, 0.10987089, 0.3020047, 0.1345269...</td>\n",
       "    </tr>\n",
       "    <tr>\n",
       "      <th>...</th>\n",
       "      <td>...</td>\n",
       "    </tr>\n",
       "    <tr>\n",
       "      <th>99995</th>\n",
       "      <td>[0.13103975, 0.24281748, 0.21392013, 0.1246250...</td>\n",
       "    </tr>\n",
       "    <tr>\n",
       "      <th>99996</th>\n",
       "      <td>[0.16038403, 0.13329938, 0.22683398, 0.1564481...</td>\n",
       "    </tr>\n",
       "    <tr>\n",
       "      <th>99997</th>\n",
       "      <td>[0.061042443, 0.079808444, 0.21341662, 0.19023...</td>\n",
       "    </tr>\n",
       "    <tr>\n",
       "      <th>99998</th>\n",
       "      <td>[0.3154023, 0.24774222, 0.14911468, 0.14163765...</td>\n",
       "    </tr>\n",
       "    <tr>\n",
       "      <th>99999</th>\n",
       "      <td>[0.35275012, 0.42672846, 0.07443691, 0.0616040...</td>\n",
       "    </tr>\n",
       "  </tbody>\n",
       "</table>\n",
       "<p>100000 rows × 1 columns</p>\n",
       "</div>"
      ],
      "text/plain": [
       "                                                      Q2\n",
       "0      [0.1351882, 0.20211737, 0.24466793, 0.18238716...\n",
       "1      [0.18062268, 0.20486212, 0.44039485, 0.2012050...\n",
       "2      [0.16359526, 0.17857885, 0.16626261, -0.018835...\n",
       "3      [0.13385396, 0.045677263, 0.33972287, 0.075053...\n",
       "4      [0.061009254, 0.10987089, 0.3020047, 0.1345269...\n",
       "...                                                  ...\n",
       "99995  [0.13103975, 0.24281748, 0.21392013, 0.1246250...\n",
       "99996  [0.16038403, 0.13329938, 0.22683398, 0.1564481...\n",
       "99997  [0.061042443, 0.079808444, 0.21341662, 0.19023...\n",
       "99998  [0.3154023, 0.24774222, 0.14911468, 0.14163765...\n",
       "99999  [0.35275012, 0.42672846, 0.07443691, 0.0616040...\n",
       "\n",
       "[100000 rows x 1 columns]"
      ]
     },
     "execution_count": 33,
     "metadata": {},
     "output_type": "execute_result"
    }
   ],
   "source": [
    "question2"
   ]
  },
  {
   "cell_type": "code",
   "execution_count": 34,
   "metadata": {},
   "outputs": [
    {
     "name": "stdout",
     "output_type": "stream",
     "text": [
      "0\n",
      "[ 1.59103706e-01  1.27839640e-01  1.94667831e-01  1.48706809e-01\n",
      " -1.13213390e-01 -1.18471168e-01  8.68537351e-02  2.81193972e-01\n",
      " -3.13126519e-02 -7.68457279e-02 -1.31241605e-01  2.24267140e-01\n",
      " -4.88885790e-02 -8.71500000e-03  1.62148073e-01 -2.02782676e-01\n",
      " -1.30953416e-01 -8.45367908e-02  6.25486393e-03  5.54991961e-02\n",
      " -1.15565538e-01 -4.99609523e-02  4.46389243e-02  7.14727677e-03\n",
      "  5.88550558e-03 -9.60357338e-02  4.94239107e-02 -6.52092993e-02\n",
      " -1.08660504e-01  9.59865749e-04  2.93502044e-02 -1.14031985e-01\n",
      " -8.09751227e-02 -1.20033368e-01  1.59358665e-01  7.65682533e-02\n",
      "  7.19376653e-02  1.54070593e-02 -9.00426358e-02 -1.41288012e-01\n",
      "  1.19292974e-01 -8.14112425e-02 -2.07896262e-01 -4.26040739e-02\n",
      "  4.32470813e-02 -8.16317648e-02 -1.08839318e-01  3.62626940e-01\n",
      " -4.03515659e-02 -6.22265115e-02  6.19551837e-02 -1.00243464e-01\n",
      "  2.36176133e-01 -1.31385252e-01 -8.66997764e-02 -7.47849941e-02\n",
      "  1.69160947e-01 -8.57591033e-02 -1.11820489e-01  6.69579655e-02\n",
      "  1.73209608e-01 -6.13514036e-02  1.08267501e-01  2.59075221e-02\n",
      " -1.12073226e-02  9.57308039e-02 -1.36559457e-01  1.73318550e-01\n",
      "  1.00930654e-01 -1.65378377e-01 -1.76712617e-01  9.19379890e-02\n",
      "  1.71722382e-01  2.85785049e-02  2.91772068e-01  1.86536789e-01\n",
      " -4.89338748e-02  1.05935689e-02  1.13284402e-01  7.79545307e-02\n",
      " -2.28001326e-01 -6.82642013e-02 -1.85937554e-01  1.00082964e-01\n",
      " -1.82844311e-01  4.92986888e-02 -8.39458592e-03  1.33749247e-01\n",
      "  9.23691839e-02  4.85471115e-02  1.08367458e-01  3.96125615e-01\n",
      " -7.86101520e-02  1.52741715e-01  1.93182707e-01  2.48330429e-01\n",
      "  3.00949886e-02  1.20704928e-02  8.79596174e-02  2.17144229e-02\n",
      "  8.09637830e-02 -1.18582189e-01  1.01861656e-01  1.32724449e-01\n",
      " -1.10382408e-01  1.17085278e-02  3.66751477e-02  8.33033696e-02\n",
      " -1.60847068e-01 -2.01110840e-02  6.09160848e-02 -1.36499614e-01\n",
      " -1.09807491e-01  1.37016132e-01 -2.07893386e-01 -8.32126960e-02\n",
      "  2.83421129e-02 -2.13921994e-01  2.11325586e-01 -1.87968835e-01\n",
      " -3.34737413e-02  6.29819036e-02  9.70123261e-02 -9.43064988e-02\n",
      "  5.97311631e-02 -7.75305629e-02 -1.43727601e-01  4.02004980e-02\n",
      " -6.58074319e-02 -1.81734636e-01  3.00126374e-01  1.17051065e-01\n",
      "  2.90577430e-02  1.15347244e-01 -1.29851341e-01  5.39494976e-02\n",
      "  1.47283763e-01 -1.76918238e-01 -1.65149257e-01 -3.33848119e-01\n",
      "  1.87351927e-01 -2.38879830e-01  1.49107605e-01 -1.66344747e-01\n",
      "  9.02078003e-02  1.53394192e-01 -2.70017888e-02 -8.17805156e-02\n",
      "  6.47408664e-02  1.70309216e-01  1.01781851e-02 -2.17254192e-01\n",
      " -8.57756510e-02  2.34455287e-01 -1.40306413e-01 -1.49807930e-01\n",
      " -5.05621396e-02 -8.35066438e-02 -7.96418637e-02  3.14432755e-02\n",
      " -2.86843292e-02 -5.88019080e-02  7.24299327e-02 -1.26005501e-01\n",
      "  3.55333909e-02  2.38573074e-01  9.73976776e-02 -2.79016122e-02\n",
      "  9.39712673e-03  3.10152285e-02  1.20416153e-02  2.09318042e-01\n",
      "  3.79455127e-02  3.06536257e-01 -8.60437192e-03 -2.56347120e-01\n",
      "  6.21286919e-03 -2.00147741e-02  1.08683176e-01  4.11648229e-02\n",
      "  7.49694556e-02 -5.02771661e-02  2.73598507e-02  8.04783404e-02\n",
      " -7.89767355e-02 -1.54822633e-01  3.23040113e-02  5.92112131e-02\n",
      "  1.06364742e-01  1.19927436e-01  1.75632447e-01 -1.59051597e-01\n",
      "  1.01542845e-01  1.63500551e-02  4.94380742e-02  2.10446902e-02\n",
      "  2.06864834e-01 -8.80645588e-02 -4.51787934e-02  1.53719679e-01\n",
      "  5.74500076e-02 -1.68212667e-01  2.82132804e-01  1.73885867e-01\n",
      "  4.62859869e-04  1.58932269e-01  4.83387150e-02 -8.25474411e-02\n",
      " -1.37515724e-01 -1.06935307e-01 -6.54566735e-02 -7.11099058e-02\n",
      "  2.67035812e-02 -2.09351718e-01  1.08462140e-01 -1.04165815e-01\n",
      "  1.17332764e-01 -1.55356571e-01 -1.57419145e-01 -3.68937016e-01\n",
      "  1.04994245e-01  1.08576551e-01  2.01105744e-01 -1.24604583e-01\n",
      "  9.38551500e-02 -2.49528717e-02  1.44681051e-01 -2.82246191e-02\n",
      " -9.79018956e-02  3.12480569e-01 -9.59516689e-03 -7.71491006e-02\n",
      " -4.88493405e-03 -4.99253273e-02 -7.53487796e-02  3.19319889e-02\n",
      " -9.17219669e-02 -2.07770228e-01  7.46748224e-02 -2.30167154e-02\n",
      "  3.49984765e-02 -6.17653579e-02 -6.51769340e-02  2.73080081e-01\n",
      "  1.02364242e-01 -9.25254524e-02  7.57768750e-02 -8.24127644e-02\n",
      "  2.37762719e-01  4.18075807e-02  2.38797721e-02 -1.54203638e-01\n",
      " -1.63551420e-03 -6.96973950e-02 -1.20687857e-01  1.60958320e-01\n",
      "  5.02188653e-02  1.42254829e-01 -1.98133826e-01  1.47277400e-01\n",
      " -5.37611321e-02 -2.99810991e-03 -1.49518847e-01  2.14272991e-01\n",
      "  1.01720437e-01  1.45523936e-01 -2.42439613e-01  1.58498496e-01\n",
      " -1.99630529e-01 -1.67023942e-01  8.96314979e-02  1.90445036e-02\n",
      "  2.37958491e-01  6.99293092e-02 -1.47471875e-01 -3.67376655e-02\n",
      " -6.44463673e-02 -1.69099152e-01 -1.97117664e-02  2.10044086e-01\n",
      "  7.07645342e-03 -3.48084047e-03 -1.74317405e-01 -7.41792470e-03\n",
      "  5.85073419e-02 -1.87806949e-01  9.50765461e-02  5.78446388e-02\n",
      "  2.05759719e-01 -4.15398739e-03 -6.71588480e-02  2.85386801e-01\n",
      " -2.11491391e-01 -7.89552703e-02 -7.12809861e-02  1.81675702e-01\n",
      "  4.73339111e-03 -8.87779668e-02  1.26053020e-01 -1.48811430e-01\n",
      " -1.17373966e-01  7.11487830e-02 -1.88145097e-02 -4.19112779e-02\n",
      "  1.80593014e-01 -1.83062360e-01  1.37429625e-01  3.86114605e-02\n",
      " -1.59166366e-01 -3.25283930e-02 -3.03799845e-03 -2.17750803e-01\n",
      "  1.88256964e-01  2.68022325e-02  1.11247301e-01 -3.36857475e-02\n",
      " -1.23724692e-01 -9.80554447e-02 -2.08716094e-01 -1.11688375e-01\n",
      "  1.39917612e-01  1.90397382e-01  2.76922941e-01 -1.63992226e-01\n",
      " -2.88291480e-02  1.25795394e-01 -6.06781431e-02 -2.56828576e-01\n",
      "  1.54603980e-02  2.15141010e-02  1.41699925e-01 -1.97092846e-01\n",
      "  5.06891534e-02  3.11469793e-01  1.26712844e-01 -2.07119323e-02\n",
      "  7.78486878e-02  7.02739507e-02  1.68713368e-02 -1.77595168e-01\n",
      "  4.10831012e-02  1.01207547e-01  1.69202797e-02 -2.22353607e-01\n",
      " -3.56173441e-02  1.64534524e-01 -2.69141346e-01  1.24752238e-01\n",
      " -9.23694596e-02  6.68362081e-02  2.57925242e-02  1.61795214e-01\n",
      " -1.04609534e-01  1.15763173e-01 -2.11071402e-01 -5.33375517e-02\n",
      " -6.12116270e-02  2.28925925e-02 -2.75366008e-04 -1.84488609e-01\n",
      " -1.11407518e-01 -2.49895044e-02  8.90670568e-02  7.06746429e-02\n",
      " -9.54709649e-02 -1.41173810e-01  4.03225720e-02 -5.15843593e-02\n",
      " -1.30099252e-01 -4.22797054e-02 -1.72636837e-01 -6.24414980e-02\n",
      " -3.40902321e-02  1.06089927e-01 -3.27924266e-04 -2.21835762e-01\n",
      " -2.34732181e-02  4.27584313e-02 -6.85358495e-02 -5.43307476e-02\n",
      "  1.80577189e-02 -1.77233800e-01  1.31397605e-01  6.29799366e-02\n",
      "  1.25414133e-01  5.13437670e-03  2.99234092e-02 -1.10816732e-01\n",
      " -6.99984357e-02 -1.55081868e-01 -1.19594723e-01 -1.03466548e-02\n",
      "  4.86580655e-02 -1.44949853e-01  2.26540655e-01  2.24342346e-01\n",
      "  5.74347377e-02 -6.74261674e-02  1.27527878e-01  1.00950077e-01\n",
      " -8.65308940e-02 -3.97701599e-02 -2.38781199e-01 -1.68807298e-01\n",
      " -8.43993202e-02 -2.48034358e-01 -5.93206659e-02  1.65921062e-01\n",
      " -1.92379057e-02 -1.26801049e-02  3.11546773e-02 -5.17580807e-02\n",
      " -2.74571508e-01 -1.41533971e-01  8.59906226e-02  8.29690173e-02\n",
      "  7.78407156e-02 -6.76664859e-02  2.92473510e-02 -2.58287609e-01\n",
      " -1.81872874e-01 -5.87564521e-02  2.73849629e-02 -7.45191202e-02\n",
      "  7.00310320e-02  9.31119770e-02 -2.68346190e-01  1.17172733e-01\n",
      "  1.55461421e-02 -2.01245844e-01  5.68052717e-02  5.12818992e-02\n",
      "  1.62838534e-01 -3.37854549e-02 -5.23184314e-02 -8.22711829e-03\n",
      "  4.43469062e-02  1.04143389e-01  5.24436906e-02  1.39039516e-01\n",
      " -3.26458439e-02  2.19189096e-02  1.15288287e-01 -1.21809989e-01\n",
      "  2.91614920e-01  8.48396569e-02  1.60075516e-01  2.14892268e-01\n",
      " -1.45488828e-01 -2.63209846e-02  1.49828479e-01 -2.46161483e-02\n",
      "  1.09360084e-01 -1.68340698e-01 -7.92434216e-02 -6.94239289e-02\n",
      " -7.90930465e-02 -1.39601812e-01  9.17357132e-02 -8.04970786e-02\n",
      "  7.63062239e-02 -1.72916912e-02  8.92788917e-02  1.34536520e-01\n",
      " -1.32389218e-01 -2.31317095e-02 -9.59994122e-02 -2.35922426e-01\n",
      "  1.69565417e-02  1.46544740e-01  2.62341741e-02  1.58019900e-01\n",
      "  7.77209923e-02 -1.71351999e-01  8.85249674e-03  1.13937087e-01\n",
      "  1.90005600e-01  2.83267759e-02 -1.32019952e-01  1.71593539e-02\n",
      " -6.42128289e-03 -1.09764516e-01 -1.40622467e-01  1.29748791e-01\n",
      "  9.12321433e-02  2.41093095e-02 -8.52626264e-02  1.26686513e-01\n",
      "  2.41830617e-01 -3.54002342e-02 -7.51928091e-02 -5.57113588e-02\n",
      "  1.38249367e-01  1.65415704e-02  2.82781646e-02 -2.03409433e-01\n",
      " -1.25086516e-01 -5.67192584e-03 -1.94386244e-02  1.61579415e-01]\n",
      "<class 'list'>\n"
     ]
    }
   ],
   "source": [
    "for index, row in enumerate(question1['Q1']):\n",
    "  print(index)\n",
    "  print(row)\n",
    "  print(type(row.tolist()))\n",
    "  break"
   ]
  },
  {
   "cell_type": "code",
   "execution_count": 35,
   "metadata": {},
   "outputs": [],
   "source": [
    "# Store the vectors for train data in following file\n",
    "OUTPUT_FOLDER = '../Datasets/'\n",
    "word2vec_filename = OUTPUT_FOLDER + 'Q1_word2vec.csv'\n",
    "with open(word2vec_filename, 'w+') as word2vec_file:\n",
    "    for index, row in enumerate(question1['Q1']):\n",
    "        #model_vector = (np.mean([word2vec_model.wv.get_vector(token) for token in row['Tokens']], axis=0)).tolist()\n",
    "        row = row.tolist()\n",
    "        if index == 0:\n",
    "            header = \",\".join(str(ele) for ele in range(vector_size))\n",
    "            word2vec_file.write(header)\n",
    "            word2vec_file.write(\"\\n\")\n",
    "        # Check if the line exists else it is vector of zeros\n",
    "        if type(row) is list:  \n",
    "            line1 = \",\".join( [str(vector_element) for vector_element in row] )\n",
    "        else:\n",
    "            line1 = \",\".join([str(0) for i in range(vector_size)])\n",
    "        word2vec_file.write(line1)\n",
    "        word2vec_file.write('\\n')"
   ]
  },
  {
   "cell_type": "code",
   "execution_count": 36,
   "metadata": {},
   "outputs": [
    {
     "data": {
      "text/html": [
       "<div>\n",
       "<style scoped>\n",
       "    .dataframe tbody tr th:only-of-type {\n",
       "        vertical-align: middle;\n",
       "    }\n",
       "\n",
       "    .dataframe tbody tr th {\n",
       "        vertical-align: top;\n",
       "    }\n",
       "\n",
       "    .dataframe thead th {\n",
       "        text-align: right;\n",
       "    }\n",
       "</style>\n",
       "<table border=\"1\" class=\"dataframe\">\n",
       "  <thead>\n",
       "    <tr style=\"text-align: right;\">\n",
       "      <th></th>\n",
       "      <th>0</th>\n",
       "      <th>1</th>\n",
       "      <th>2</th>\n",
       "      <th>3</th>\n",
       "      <th>4</th>\n",
       "      <th>5</th>\n",
       "      <th>6</th>\n",
       "      <th>7</th>\n",
       "      <th>8</th>\n",
       "      <th>9</th>\n",
       "      <th>...</th>\n",
       "      <th>490</th>\n",
       "      <th>491</th>\n",
       "      <th>492</th>\n",
       "      <th>493</th>\n",
       "      <th>494</th>\n",
       "      <th>495</th>\n",
       "      <th>496</th>\n",
       "      <th>497</th>\n",
       "      <th>498</th>\n",
       "      <th>499</th>\n",
       "    </tr>\n",
       "  </thead>\n",
       "  <tbody>\n",
       "    <tr>\n",
       "      <th>0</th>\n",
       "      <td>0.159104</td>\n",
       "      <td>0.127840</td>\n",
       "      <td>0.194668</td>\n",
       "      <td>0.148707</td>\n",
       "      <td>-0.113213</td>\n",
       "      <td>-0.118471</td>\n",
       "      <td>0.086854</td>\n",
       "      <td>0.281194</td>\n",
       "      <td>-0.031313</td>\n",
       "      <td>-0.076846</td>\n",
       "      <td>...</td>\n",
       "      <td>-0.075193</td>\n",
       "      <td>-0.055711</td>\n",
       "      <td>0.138249</td>\n",
       "      <td>0.016542</td>\n",
       "      <td>0.028278</td>\n",
       "      <td>-0.203409</td>\n",
       "      <td>-0.125087</td>\n",
       "      <td>-0.005672</td>\n",
       "      <td>-0.019439</td>\n",
       "      <td>0.161579</td>\n",
       "    </tr>\n",
       "    <tr>\n",
       "      <th>1</th>\n",
       "      <td>0.091145</td>\n",
       "      <td>0.050198</td>\n",
       "      <td>0.259452</td>\n",
       "      <td>0.033187</td>\n",
       "      <td>-0.024802</td>\n",
       "      <td>-0.095558</td>\n",
       "      <td>-0.004581</td>\n",
       "      <td>0.196599</td>\n",
       "      <td>-0.041321</td>\n",
       "      <td>0.037035</td>\n",
       "      <td>...</td>\n",
       "      <td>0.013230</td>\n",
       "      <td>0.009511</td>\n",
       "      <td>0.080315</td>\n",
       "      <td>-0.009877</td>\n",
       "      <td>0.013205</td>\n",
       "      <td>-0.062634</td>\n",
       "      <td>-0.071021</td>\n",
       "      <td>-0.154481</td>\n",
       "      <td>-0.043556</td>\n",
       "      <td>-0.025714</td>\n",
       "    </tr>\n",
       "    <tr>\n",
       "      <th>2</th>\n",
       "      <td>0.106127</td>\n",
       "      <td>0.133097</td>\n",
       "      <td>0.202930</td>\n",
       "      <td>-0.010905</td>\n",
       "      <td>-0.051594</td>\n",
       "      <td>-0.147373</td>\n",
       "      <td>0.090241</td>\n",
       "      <td>0.522273</td>\n",
       "      <td>0.116916</td>\n",
       "      <td>0.140777</td>\n",
       "      <td>...</td>\n",
       "      <td>-0.230715</td>\n",
       "      <td>-0.122945</td>\n",
       "      <td>0.039841</td>\n",
       "      <td>-0.003337</td>\n",
       "      <td>0.023143</td>\n",
       "      <td>-0.021244</td>\n",
       "      <td>-0.331358</td>\n",
       "      <td>-0.017265</td>\n",
       "      <td>-0.176439</td>\n",
       "      <td>-0.150574</td>\n",
       "    </tr>\n",
       "    <tr>\n",
       "      <th>3</th>\n",
       "      <td>0.211248</td>\n",
       "      <td>-0.034097</td>\n",
       "      <td>0.299233</td>\n",
       "      <td>0.105853</td>\n",
       "      <td>0.037535</td>\n",
       "      <td>-0.040176</td>\n",
       "      <td>-0.121438</td>\n",
       "      <td>0.406516</td>\n",
       "      <td>0.051698</td>\n",
       "      <td>-0.038953</td>\n",
       "      <td>...</td>\n",
       "      <td>0.141510</td>\n",
       "      <td>-0.153866</td>\n",
       "      <td>0.237007</td>\n",
       "      <td>0.126008</td>\n",
       "      <td>-0.259372</td>\n",
       "      <td>-0.040827</td>\n",
       "      <td>-0.048652</td>\n",
       "      <td>-0.297636</td>\n",
       "      <td>-0.159818</td>\n",
       "      <td>-0.002610</td>\n",
       "    </tr>\n",
       "    <tr>\n",
       "      <th>4</th>\n",
       "      <td>0.060117</td>\n",
       "      <td>0.137613</td>\n",
       "      <td>0.301517</td>\n",
       "      <td>0.133050</td>\n",
       "      <td>0.014871</td>\n",
       "      <td>-0.153269</td>\n",
       "      <td>0.016563</td>\n",
       "      <td>0.303499</td>\n",
       "      <td>0.085074</td>\n",
       "      <td>0.168118</td>\n",
       "      <td>...</td>\n",
       "      <td>0.070693</td>\n",
       "      <td>-0.061162</td>\n",
       "      <td>0.116656</td>\n",
       "      <td>0.025282</td>\n",
       "      <td>0.142333</td>\n",
       "      <td>-0.014501</td>\n",
       "      <td>-0.282383</td>\n",
       "      <td>-0.173748</td>\n",
       "      <td>0.072248</td>\n",
       "      <td>-0.013023</td>\n",
       "    </tr>\n",
       "  </tbody>\n",
       "</table>\n",
       "<p>5 rows × 500 columns</p>\n",
       "</div>"
      ],
      "text/plain": [
       "          0         1         2         3         4         5         6  \\\n",
       "0  0.159104  0.127840  0.194668  0.148707 -0.113213 -0.118471  0.086854   \n",
       "1  0.091145  0.050198  0.259452  0.033187 -0.024802 -0.095558 -0.004581   \n",
       "2  0.106127  0.133097  0.202930 -0.010905 -0.051594 -0.147373  0.090241   \n",
       "3  0.211248 -0.034097  0.299233  0.105853  0.037535 -0.040176 -0.121438   \n",
       "4  0.060117  0.137613  0.301517  0.133050  0.014871 -0.153269  0.016563   \n",
       "\n",
       "          7         8         9  ...       490       491       492       493  \\\n",
       "0  0.281194 -0.031313 -0.076846  ... -0.075193 -0.055711  0.138249  0.016542   \n",
       "1  0.196599 -0.041321  0.037035  ...  0.013230  0.009511  0.080315 -0.009877   \n",
       "2  0.522273  0.116916  0.140777  ... -0.230715 -0.122945  0.039841 -0.003337   \n",
       "3  0.406516  0.051698 -0.038953  ...  0.141510 -0.153866  0.237007  0.126008   \n",
       "4  0.303499  0.085074  0.168118  ...  0.070693 -0.061162  0.116656  0.025282   \n",
       "\n",
       "        494       495       496       497       498       499  \n",
       "0  0.028278 -0.203409 -0.125087 -0.005672 -0.019439  0.161579  \n",
       "1  0.013205 -0.062634 -0.071021 -0.154481 -0.043556 -0.025714  \n",
       "2  0.023143 -0.021244 -0.331358 -0.017265 -0.176439 -0.150574  \n",
       "3 -0.259372 -0.040827 -0.048652 -0.297636 -0.159818 -0.002610  \n",
       "4  0.142333 -0.014501 -0.282383 -0.173748  0.072248 -0.013023  \n",
       "\n",
       "[5 rows x 500 columns]"
      ]
     },
     "execution_count": 36,
     "metadata": {},
     "output_type": "execute_result"
    }
   ],
   "source": [
    "Q1 = pd.read_csv('../Datasets/Q1_word2vec.csv')\n",
    "Q1.head()"
   ]
  },
  {
   "cell_type": "code",
   "execution_count": 37,
   "metadata": {},
   "outputs": [],
   "source": [
    "# Store the vectors for train data in following file\n",
    "OUTPUT_FOLDER = '../Datasets/'\n",
    "word2vec_filename = OUTPUT_FOLDER + 'Q2_word2vec.csv'\n",
    "with open(word2vec_filename, 'w+') as word2vec_file:\n",
    "    for index, row in enumerate(question2['Q2']):\n",
    "        #model_vector = (np.mean([word2vec_model.wv.get_vector(token) for token in row['Tokens']], axis=0)).tolist()\n",
    "        row = row.tolist()\n",
    "        if index == 0:\n",
    "            header = \",\".join(str(ele + vector_size) for ele in range(vector_size))\n",
    "            word2vec_file.write(header)\n",
    "            word2vec_file.write(\"\\n\")\n",
    "        # Check if the line exists else it is vector of zeros\n",
    "        if type(row) is list:  \n",
    "            line1 = \",\".join( [str(vector_element) for vector_element in row] )\n",
    "        else:\n",
    "            line1 = \",\".join([str(0) for i in range(vector_size)])\n",
    "        word2vec_file.write(line1)\n",
    "        word2vec_file.write('\\n')"
   ]
  },
  {
   "cell_type": "code",
   "execution_count": 38,
   "metadata": {},
   "outputs": [
    {
     "data": {
      "text/html": [
       "<div>\n",
       "<style scoped>\n",
       "    .dataframe tbody tr th:only-of-type {\n",
       "        vertical-align: middle;\n",
       "    }\n",
       "\n",
       "    .dataframe tbody tr th {\n",
       "        vertical-align: top;\n",
       "    }\n",
       "\n",
       "    .dataframe thead th {\n",
       "        text-align: right;\n",
       "    }\n",
       "</style>\n",
       "<table border=\"1\" class=\"dataframe\">\n",
       "  <thead>\n",
       "    <tr style=\"text-align: right;\">\n",
       "      <th></th>\n",
       "      <th>500</th>\n",
       "      <th>501</th>\n",
       "      <th>502</th>\n",
       "      <th>503</th>\n",
       "      <th>504</th>\n",
       "      <th>505</th>\n",
       "      <th>506</th>\n",
       "      <th>507</th>\n",
       "      <th>508</th>\n",
       "      <th>509</th>\n",
       "      <th>...</th>\n",
       "      <th>990</th>\n",
       "      <th>991</th>\n",
       "      <th>992</th>\n",
       "      <th>993</th>\n",
       "      <th>994</th>\n",
       "      <th>995</th>\n",
       "      <th>996</th>\n",
       "      <th>997</th>\n",
       "      <th>998</th>\n",
       "      <th>999</th>\n",
       "    </tr>\n",
       "  </thead>\n",
       "  <tbody>\n",
       "    <tr>\n",
       "      <th>0</th>\n",
       "      <td>0.135188</td>\n",
       "      <td>0.202117</td>\n",
       "      <td>0.244668</td>\n",
       "      <td>0.182387</td>\n",
       "      <td>-0.087658</td>\n",
       "      <td>-0.210874</td>\n",
       "      <td>0.099161</td>\n",
       "      <td>0.245719</td>\n",
       "      <td>0.028115</td>\n",
       "      <td>-0.084472</td>\n",
       "      <td>...</td>\n",
       "      <td>-0.098332</td>\n",
       "      <td>-0.118939</td>\n",
       "      <td>0.113934</td>\n",
       "      <td>-0.009238</td>\n",
       "      <td>0.006367</td>\n",
       "      <td>-0.144849</td>\n",
       "      <td>-0.145922</td>\n",
       "      <td>-0.014966</td>\n",
       "      <td>-0.087658</td>\n",
       "      <td>0.115435</td>\n",
       "    </tr>\n",
       "    <tr>\n",
       "      <th>1</th>\n",
       "      <td>0.180623</td>\n",
       "      <td>0.204862</td>\n",
       "      <td>0.440395</td>\n",
       "      <td>0.201205</td>\n",
       "      <td>-0.105556</td>\n",
       "      <td>-0.152936</td>\n",
       "      <td>0.054567</td>\n",
       "      <td>0.542428</td>\n",
       "      <td>0.034744</td>\n",
       "      <td>0.035175</td>\n",
       "      <td>...</td>\n",
       "      <td>0.011026</td>\n",
       "      <td>-0.074607</td>\n",
       "      <td>0.178489</td>\n",
       "      <td>0.047545</td>\n",
       "      <td>0.104875</td>\n",
       "      <td>-0.051214</td>\n",
       "      <td>-0.136349</td>\n",
       "      <td>-0.207822</td>\n",
       "      <td>-0.083756</td>\n",
       "      <td>-0.159096</td>\n",
       "    </tr>\n",
       "    <tr>\n",
       "      <th>2</th>\n",
       "      <td>0.163595</td>\n",
       "      <td>0.178579</td>\n",
       "      <td>0.166263</td>\n",
       "      <td>-0.018836</td>\n",
       "      <td>-0.115097</td>\n",
       "      <td>-0.127559</td>\n",
       "      <td>0.098684</td>\n",
       "      <td>0.498126</td>\n",
       "      <td>0.114626</td>\n",
       "      <td>0.180547</td>\n",
       "      <td>...</td>\n",
       "      <td>-0.168487</td>\n",
       "      <td>-0.145497</td>\n",
       "      <td>0.000056</td>\n",
       "      <td>0.040941</td>\n",
       "      <td>0.071111</td>\n",
       "      <td>-0.026878</td>\n",
       "      <td>-0.315068</td>\n",
       "      <td>-0.000822</td>\n",
       "      <td>-0.088132</td>\n",
       "      <td>-0.098859</td>\n",
       "    </tr>\n",
       "    <tr>\n",
       "      <th>3</th>\n",
       "      <td>0.133854</td>\n",
       "      <td>0.045677</td>\n",
       "      <td>0.339723</td>\n",
       "      <td>0.075053</td>\n",
       "      <td>-0.008764</td>\n",
       "      <td>-0.079616</td>\n",
       "      <td>0.045309</td>\n",
       "      <td>0.443606</td>\n",
       "      <td>0.188744</td>\n",
       "      <td>0.016297</td>\n",
       "      <td>...</td>\n",
       "      <td>0.072816</td>\n",
       "      <td>-0.210135</td>\n",
       "      <td>0.268748</td>\n",
       "      <td>0.064604</td>\n",
       "      <td>-0.109583</td>\n",
       "      <td>0.118173</td>\n",
       "      <td>0.090241</td>\n",
       "      <td>-0.268488</td>\n",
       "      <td>-0.078953</td>\n",
       "      <td>-0.174966</td>\n",
       "    </tr>\n",
       "    <tr>\n",
       "      <th>4</th>\n",
       "      <td>0.061009</td>\n",
       "      <td>0.109871</td>\n",
       "      <td>0.302005</td>\n",
       "      <td>0.134527</td>\n",
       "      <td>-0.020455</td>\n",
       "      <td>-0.103552</td>\n",
       "      <td>-0.015302</td>\n",
       "      <td>0.216958</td>\n",
       "      <td>0.050221</td>\n",
       "      <td>0.119446</td>\n",
       "      <td>...</td>\n",
       "      <td>-0.010212</td>\n",
       "      <td>-0.037607</td>\n",
       "      <td>0.105114</td>\n",
       "      <td>0.076840</td>\n",
       "      <td>0.076730</td>\n",
       "      <td>-0.056583</td>\n",
       "      <td>-0.124962</td>\n",
       "      <td>-0.103746</td>\n",
       "      <td>-0.000177</td>\n",
       "      <td>-0.126717</td>\n",
       "    </tr>\n",
       "  </tbody>\n",
       "</table>\n",
       "<p>5 rows × 500 columns</p>\n",
       "</div>"
      ],
      "text/plain": [
       "        500       501       502       503       504       505       506  \\\n",
       "0  0.135188  0.202117  0.244668  0.182387 -0.087658 -0.210874  0.099161   \n",
       "1  0.180623  0.204862  0.440395  0.201205 -0.105556 -0.152936  0.054567   \n",
       "2  0.163595  0.178579  0.166263 -0.018836 -0.115097 -0.127559  0.098684   \n",
       "3  0.133854  0.045677  0.339723  0.075053 -0.008764 -0.079616  0.045309   \n",
       "4  0.061009  0.109871  0.302005  0.134527 -0.020455 -0.103552 -0.015302   \n",
       "\n",
       "        507       508       509  ...       990       991       992       993  \\\n",
       "0  0.245719  0.028115 -0.084472  ... -0.098332 -0.118939  0.113934 -0.009238   \n",
       "1  0.542428  0.034744  0.035175  ...  0.011026 -0.074607  0.178489  0.047545   \n",
       "2  0.498126  0.114626  0.180547  ... -0.168487 -0.145497  0.000056  0.040941   \n",
       "3  0.443606  0.188744  0.016297  ...  0.072816 -0.210135  0.268748  0.064604   \n",
       "4  0.216958  0.050221  0.119446  ... -0.010212 -0.037607  0.105114  0.076840   \n",
       "\n",
       "        994       995       996       997       998       999  \n",
       "0  0.006367 -0.144849 -0.145922 -0.014966 -0.087658  0.115435  \n",
       "1  0.104875 -0.051214 -0.136349 -0.207822 -0.083756 -0.159096  \n",
       "2  0.071111 -0.026878 -0.315068 -0.000822 -0.088132 -0.098859  \n",
       "3 -0.109583  0.118173  0.090241 -0.268488 -0.078953 -0.174966  \n",
       "4  0.076730 -0.056583 -0.124962 -0.103746 -0.000177 -0.126717  \n",
       "\n",
       "[5 rows x 500 columns]"
      ]
     },
     "execution_count": 38,
     "metadata": {},
     "output_type": "execute_result"
    }
   ],
   "source": [
    "Q2 = pd.read_csv('../Datasets/Q2_word2vec.csv')\n",
    "Q2.head()"
   ]
  },
  {
   "cell_type": "code",
   "execution_count": 39,
   "metadata": {},
   "outputs": [
    {
     "data": {
      "text/html": [
       "<div>\n",
       "<style scoped>\n",
       "    .dataframe tbody tr th:only-of-type {\n",
       "        vertical-align: middle;\n",
       "    }\n",
       "\n",
       "    .dataframe tbody tr th {\n",
       "        vertical-align: top;\n",
       "    }\n",
       "\n",
       "    .dataframe thead th {\n",
       "        text-align: right;\n",
       "    }\n",
       "</style>\n",
       "<table border=\"1\" class=\"dataframe\">\n",
       "  <thead>\n",
       "    <tr style=\"text-align: right;\">\n",
       "      <th></th>\n",
       "      <th>0</th>\n",
       "      <th>1</th>\n",
       "      <th>2</th>\n",
       "      <th>3</th>\n",
       "      <th>4</th>\n",
       "      <th>5</th>\n",
       "      <th>6</th>\n",
       "      <th>7</th>\n",
       "      <th>8</th>\n",
       "      <th>9</th>\n",
       "      <th>...</th>\n",
       "      <th>490</th>\n",
       "      <th>491</th>\n",
       "      <th>492</th>\n",
       "      <th>493</th>\n",
       "      <th>494</th>\n",
       "      <th>495</th>\n",
       "      <th>496</th>\n",
       "      <th>497</th>\n",
       "      <th>498</th>\n",
       "      <th>499</th>\n",
       "    </tr>\n",
       "  </thead>\n",
       "  <tbody>\n",
       "    <tr>\n",
       "      <th>0</th>\n",
       "      <td>0.159104</td>\n",
       "      <td>0.127840</td>\n",
       "      <td>0.194668</td>\n",
       "      <td>0.148707</td>\n",
       "      <td>-0.113213</td>\n",
       "      <td>-0.118471</td>\n",
       "      <td>0.086854</td>\n",
       "      <td>0.281194</td>\n",
       "      <td>-0.031313</td>\n",
       "      <td>-0.076846</td>\n",
       "      <td>...</td>\n",
       "      <td>-0.075193</td>\n",
       "      <td>-0.055711</td>\n",
       "      <td>0.138249</td>\n",
       "      <td>0.016542</td>\n",
       "      <td>0.028278</td>\n",
       "      <td>-0.203409</td>\n",
       "      <td>-0.125087</td>\n",
       "      <td>-0.005672</td>\n",
       "      <td>-0.019439</td>\n",
       "      <td>0.161579</td>\n",
       "    </tr>\n",
       "    <tr>\n",
       "      <th>1</th>\n",
       "      <td>0.091145</td>\n",
       "      <td>0.050198</td>\n",
       "      <td>0.259452</td>\n",
       "      <td>0.033187</td>\n",
       "      <td>-0.024802</td>\n",
       "      <td>-0.095558</td>\n",
       "      <td>-0.004581</td>\n",
       "      <td>0.196599</td>\n",
       "      <td>-0.041321</td>\n",
       "      <td>0.037035</td>\n",
       "      <td>...</td>\n",
       "      <td>0.013230</td>\n",
       "      <td>0.009511</td>\n",
       "      <td>0.080315</td>\n",
       "      <td>-0.009877</td>\n",
       "      <td>0.013205</td>\n",
       "      <td>-0.062634</td>\n",
       "      <td>-0.071021</td>\n",
       "      <td>-0.154481</td>\n",
       "      <td>-0.043556</td>\n",
       "      <td>-0.025714</td>\n",
       "    </tr>\n",
       "    <tr>\n",
       "      <th>2</th>\n",
       "      <td>0.106127</td>\n",
       "      <td>0.133097</td>\n",
       "      <td>0.202930</td>\n",
       "      <td>-0.010905</td>\n",
       "      <td>-0.051594</td>\n",
       "      <td>-0.147373</td>\n",
       "      <td>0.090241</td>\n",
       "      <td>0.522273</td>\n",
       "      <td>0.116916</td>\n",
       "      <td>0.140777</td>\n",
       "      <td>...</td>\n",
       "      <td>-0.230715</td>\n",
       "      <td>-0.122945</td>\n",
       "      <td>0.039841</td>\n",
       "      <td>-0.003337</td>\n",
       "      <td>0.023143</td>\n",
       "      <td>-0.021244</td>\n",
       "      <td>-0.331358</td>\n",
       "      <td>-0.017265</td>\n",
       "      <td>-0.176439</td>\n",
       "      <td>-0.150574</td>\n",
       "    </tr>\n",
       "    <tr>\n",
       "      <th>3</th>\n",
       "      <td>0.211248</td>\n",
       "      <td>-0.034097</td>\n",
       "      <td>0.299233</td>\n",
       "      <td>0.105853</td>\n",
       "      <td>0.037535</td>\n",
       "      <td>-0.040176</td>\n",
       "      <td>-0.121438</td>\n",
       "      <td>0.406516</td>\n",
       "      <td>0.051698</td>\n",
       "      <td>-0.038953</td>\n",
       "      <td>...</td>\n",
       "      <td>0.141510</td>\n",
       "      <td>-0.153866</td>\n",
       "      <td>0.237007</td>\n",
       "      <td>0.126008</td>\n",
       "      <td>-0.259372</td>\n",
       "      <td>-0.040827</td>\n",
       "      <td>-0.048652</td>\n",
       "      <td>-0.297636</td>\n",
       "      <td>-0.159818</td>\n",
       "      <td>-0.002610</td>\n",
       "    </tr>\n",
       "    <tr>\n",
       "      <th>4</th>\n",
       "      <td>0.060117</td>\n",
       "      <td>0.137613</td>\n",
       "      <td>0.301517</td>\n",
       "      <td>0.133050</td>\n",
       "      <td>0.014871</td>\n",
       "      <td>-0.153269</td>\n",
       "      <td>0.016563</td>\n",
       "      <td>0.303499</td>\n",
       "      <td>0.085074</td>\n",
       "      <td>0.168118</td>\n",
       "      <td>...</td>\n",
       "      <td>0.070693</td>\n",
       "      <td>-0.061162</td>\n",
       "      <td>0.116656</td>\n",
       "      <td>0.025282</td>\n",
       "      <td>0.142333</td>\n",
       "      <td>-0.014501</td>\n",
       "      <td>-0.282383</td>\n",
       "      <td>-0.173748</td>\n",
       "      <td>0.072248</td>\n",
       "      <td>-0.013023</td>\n",
       "    </tr>\n",
       "  </tbody>\n",
       "</table>\n",
       "<p>5 rows × 500 columns</p>\n",
       "</div>"
      ],
      "text/plain": [
       "          0         1         2         3         4         5         6  \\\n",
       "0  0.159104  0.127840  0.194668  0.148707 -0.113213 -0.118471  0.086854   \n",
       "1  0.091145  0.050198  0.259452  0.033187 -0.024802 -0.095558 -0.004581   \n",
       "2  0.106127  0.133097  0.202930 -0.010905 -0.051594 -0.147373  0.090241   \n",
       "3  0.211248 -0.034097  0.299233  0.105853  0.037535 -0.040176 -0.121438   \n",
       "4  0.060117  0.137613  0.301517  0.133050  0.014871 -0.153269  0.016563   \n",
       "\n",
       "          7         8         9  ...       490       491       492       493  \\\n",
       "0  0.281194 -0.031313 -0.076846  ... -0.075193 -0.055711  0.138249  0.016542   \n",
       "1  0.196599 -0.041321  0.037035  ...  0.013230  0.009511  0.080315 -0.009877   \n",
       "2  0.522273  0.116916  0.140777  ... -0.230715 -0.122945  0.039841 -0.003337   \n",
       "3  0.406516  0.051698 -0.038953  ...  0.141510 -0.153866  0.237007  0.126008   \n",
       "4  0.303499  0.085074  0.168118  ...  0.070693 -0.061162  0.116656  0.025282   \n",
       "\n",
       "        494       495       496       497       498       499  \n",
       "0  0.028278 -0.203409 -0.125087 -0.005672 -0.019439  0.161579  \n",
       "1  0.013205 -0.062634 -0.071021 -0.154481 -0.043556 -0.025714  \n",
       "2  0.023143 -0.021244 -0.331358 -0.017265 -0.176439 -0.150574  \n",
       "3 -0.259372 -0.040827 -0.048652 -0.297636 -0.159818 -0.002610  \n",
       "4  0.142333 -0.014501 -0.282383 -0.173748  0.072248 -0.013023  \n",
       "\n",
       "[5 rows x 500 columns]"
      ]
     },
     "execution_count": 39,
     "metadata": {},
     "output_type": "execute_result"
    }
   ],
   "source": [
    "Q1.head()"
   ]
  },
  {
   "cell_type": "code",
   "execution_count": 40,
   "metadata": {},
   "outputs": [
    {
     "data": {
      "text/html": [
       "<div>\n",
       "<style scoped>\n",
       "    .dataframe tbody tr th:only-of-type {\n",
       "        vertical-align: middle;\n",
       "    }\n",
       "\n",
       "    .dataframe tbody tr th {\n",
       "        vertical-align: top;\n",
       "    }\n",
       "\n",
       "    .dataframe thead th {\n",
       "        text-align: right;\n",
       "    }\n",
       "</style>\n",
       "<table border=\"1\" class=\"dataframe\">\n",
       "  <thead>\n",
       "    <tr style=\"text-align: right;\">\n",
       "      <th></th>\n",
       "      <th>q1_len</th>\n",
       "      <th>q2_len</th>\n",
       "      <th>q1_words</th>\n",
       "      <th>q2_words</th>\n",
       "      <th>common_words</th>\n",
       "      <th>total_words</th>\n",
       "      <th>words_share</th>\n",
       "      <th>token_set</th>\n",
       "      <th>token_sort</th>\n",
       "      <th>partial_token_set</th>\n",
       "      <th>partial_token_sort</th>\n",
       "    </tr>\n",
       "  </thead>\n",
       "  <tbody>\n",
       "    <tr>\n",
       "      <th>0</th>\n",
       "      <td>28</td>\n",
       "      <td>27</td>\n",
       "      <td>4</td>\n",
       "      <td>4</td>\n",
       "      <td>2</td>\n",
       "      <td>8</td>\n",
       "      <td>0.25</td>\n",
       "      <td>71</td>\n",
       "      <td>69</td>\n",
       "      <td>100</td>\n",
       "      <td>75</td>\n",
       "    </tr>\n",
       "    <tr>\n",
       "      <th>1</th>\n",
       "      <td>33</td>\n",
       "      <td>34</td>\n",
       "      <td>4</td>\n",
       "      <td>4</td>\n",
       "      <td>2</td>\n",
       "      <td>8</td>\n",
       "      <td>0.25</td>\n",
       "      <td>75</td>\n",
       "      <td>66</td>\n",
       "      <td>100</td>\n",
       "      <td>64</td>\n",
       "    </tr>\n",
       "    <tr>\n",
       "      <th>2</th>\n",
       "      <td>83</td>\n",
       "      <td>7</td>\n",
       "      <td>14</td>\n",
       "      <td>2</td>\n",
       "      <td>1</td>\n",
       "      <td>16</td>\n",
       "      <td>0.06</td>\n",
       "      <td>60</td>\n",
       "      <td>13</td>\n",
       "      <td>100</td>\n",
       "      <td>57</td>\n",
       "    </tr>\n",
       "    <tr>\n",
       "      <th>3</th>\n",
       "      <td>23</td>\n",
       "      <td>18</td>\n",
       "      <td>4</td>\n",
       "      <td>3</td>\n",
       "      <td>2</td>\n",
       "      <td>7</td>\n",
       "      <td>0.29</td>\n",
       "      <td>76</td>\n",
       "      <td>54</td>\n",
       "      <td>100</td>\n",
       "      <td>50</td>\n",
       "    </tr>\n",
       "    <tr>\n",
       "      <th>4</th>\n",
       "      <td>53</td>\n",
       "      <td>84</td>\n",
       "      <td>8</td>\n",
       "      <td>10</td>\n",
       "      <td>0</td>\n",
       "      <td>14</td>\n",
       "      <td>0.00</td>\n",
       "      <td>20</td>\n",
       "      <td>22</td>\n",
       "      <td>26</td>\n",
       "      <td>33</td>\n",
       "    </tr>\n",
       "  </tbody>\n",
       "</table>\n",
       "</div>"
      ],
      "text/plain": [
       "   q1_len  q2_len  q1_words  q2_words  common_words  total_words  words_share  \\\n",
       "0      28      27         4         4             2            8         0.25   \n",
       "1      33      34         4         4             2            8         0.25   \n",
       "2      83       7        14         2             1           16         0.06   \n",
       "3      23      18         4         3             2            7         0.29   \n",
       "4      53      84         8        10             0           14         0.00   \n",
       "\n",
       "   token_set  token_sort  partial_token_set  partial_token_sort  \n",
       "0         71          69                100                  75  \n",
       "1         75          66                100                  64  \n",
       "2         60          13                100                  57  \n",
       "3         76          54                100                  50  \n",
       "4         20          22                 26                  33  "
      ]
     },
     "execution_count": 40,
     "metadata": {},
     "output_type": "execute_result"
    }
   ],
   "source": [
    "artificial_features.head()"
   ]
  },
  {
   "cell_type": "code",
   "execution_count": 41,
   "metadata": {},
   "outputs": [
    {
     "data": {
      "text/html": [
       "<div>\n",
       "<style scoped>\n",
       "    .dataframe tbody tr th:only-of-type {\n",
       "        vertical-align: middle;\n",
       "    }\n",
       "\n",
       "    .dataframe tbody tr th {\n",
       "        vertical-align: top;\n",
       "    }\n",
       "\n",
       "    .dataframe thead th {\n",
       "        text-align: right;\n",
       "    }\n",
       "</style>\n",
       "<table border=\"1\" class=\"dataframe\">\n",
       "  <thead>\n",
       "    <tr style=\"text-align: right;\">\n",
       "      <th></th>\n",
       "      <th>0</th>\n",
       "      <th>1</th>\n",
       "      <th>2</th>\n",
       "      <th>3</th>\n",
       "      <th>4</th>\n",
       "      <th>5</th>\n",
       "      <th>6</th>\n",
       "      <th>7</th>\n",
       "      <th>8</th>\n",
       "      <th>9</th>\n",
       "      <th>...</th>\n",
       "      <th>990</th>\n",
       "      <th>991</th>\n",
       "      <th>992</th>\n",
       "      <th>993</th>\n",
       "      <th>994</th>\n",
       "      <th>995</th>\n",
       "      <th>996</th>\n",
       "      <th>997</th>\n",
       "      <th>998</th>\n",
       "      <th>999</th>\n",
       "    </tr>\n",
       "  </thead>\n",
       "  <tbody>\n",
       "    <tr>\n",
       "      <th>0</th>\n",
       "      <td>0.159104</td>\n",
       "      <td>0.127840</td>\n",
       "      <td>0.194668</td>\n",
       "      <td>0.148707</td>\n",
       "      <td>-0.113213</td>\n",
       "      <td>-0.118471</td>\n",
       "      <td>0.086854</td>\n",
       "      <td>0.281194</td>\n",
       "      <td>-0.031313</td>\n",
       "      <td>-0.076846</td>\n",
       "      <td>...</td>\n",
       "      <td>-0.098332</td>\n",
       "      <td>-0.118939</td>\n",
       "      <td>0.113934</td>\n",
       "      <td>-0.009238</td>\n",
       "      <td>0.006367</td>\n",
       "      <td>-0.144849</td>\n",
       "      <td>-0.145922</td>\n",
       "      <td>-0.014966</td>\n",
       "      <td>-0.087658</td>\n",
       "      <td>0.115435</td>\n",
       "    </tr>\n",
       "    <tr>\n",
       "      <th>1</th>\n",
       "      <td>0.091145</td>\n",
       "      <td>0.050198</td>\n",
       "      <td>0.259452</td>\n",
       "      <td>0.033187</td>\n",
       "      <td>-0.024802</td>\n",
       "      <td>-0.095558</td>\n",
       "      <td>-0.004581</td>\n",
       "      <td>0.196599</td>\n",
       "      <td>-0.041321</td>\n",
       "      <td>0.037035</td>\n",
       "      <td>...</td>\n",
       "      <td>0.011026</td>\n",
       "      <td>-0.074607</td>\n",
       "      <td>0.178489</td>\n",
       "      <td>0.047545</td>\n",
       "      <td>0.104875</td>\n",
       "      <td>-0.051214</td>\n",
       "      <td>-0.136349</td>\n",
       "      <td>-0.207822</td>\n",
       "      <td>-0.083756</td>\n",
       "      <td>-0.159096</td>\n",
       "    </tr>\n",
       "    <tr>\n",
       "      <th>2</th>\n",
       "      <td>0.106127</td>\n",
       "      <td>0.133097</td>\n",
       "      <td>0.202930</td>\n",
       "      <td>-0.010905</td>\n",
       "      <td>-0.051594</td>\n",
       "      <td>-0.147373</td>\n",
       "      <td>0.090241</td>\n",
       "      <td>0.522273</td>\n",
       "      <td>0.116916</td>\n",
       "      <td>0.140777</td>\n",
       "      <td>...</td>\n",
       "      <td>-0.168487</td>\n",
       "      <td>-0.145497</td>\n",
       "      <td>0.000056</td>\n",
       "      <td>0.040941</td>\n",
       "      <td>0.071111</td>\n",
       "      <td>-0.026878</td>\n",
       "      <td>-0.315068</td>\n",
       "      <td>-0.000822</td>\n",
       "      <td>-0.088132</td>\n",
       "      <td>-0.098859</td>\n",
       "    </tr>\n",
       "    <tr>\n",
       "      <th>3</th>\n",
       "      <td>0.211248</td>\n",
       "      <td>-0.034097</td>\n",
       "      <td>0.299233</td>\n",
       "      <td>0.105853</td>\n",
       "      <td>0.037535</td>\n",
       "      <td>-0.040176</td>\n",
       "      <td>-0.121438</td>\n",
       "      <td>0.406516</td>\n",
       "      <td>0.051698</td>\n",
       "      <td>-0.038953</td>\n",
       "      <td>...</td>\n",
       "      <td>0.072816</td>\n",
       "      <td>-0.210135</td>\n",
       "      <td>0.268748</td>\n",
       "      <td>0.064604</td>\n",
       "      <td>-0.109583</td>\n",
       "      <td>0.118173</td>\n",
       "      <td>0.090241</td>\n",
       "      <td>-0.268488</td>\n",
       "      <td>-0.078953</td>\n",
       "      <td>-0.174966</td>\n",
       "    </tr>\n",
       "    <tr>\n",
       "      <th>4</th>\n",
       "      <td>0.060117</td>\n",
       "      <td>0.137613</td>\n",
       "      <td>0.301517</td>\n",
       "      <td>0.133050</td>\n",
       "      <td>0.014871</td>\n",
       "      <td>-0.153269</td>\n",
       "      <td>0.016563</td>\n",
       "      <td>0.303499</td>\n",
       "      <td>0.085074</td>\n",
       "      <td>0.168118</td>\n",
       "      <td>...</td>\n",
       "      <td>-0.010212</td>\n",
       "      <td>-0.037607</td>\n",
       "      <td>0.105114</td>\n",
       "      <td>0.076840</td>\n",
       "      <td>0.076730</td>\n",
       "      <td>-0.056583</td>\n",
       "      <td>-0.124962</td>\n",
       "      <td>-0.103746</td>\n",
       "      <td>-0.000177</td>\n",
       "      <td>-0.126717</td>\n",
       "    </tr>\n",
       "  </tbody>\n",
       "</table>\n",
       "<p>5 rows × 1000 columns</p>\n",
       "</div>"
      ],
      "text/plain": [
       "          0         1         2         3         4         5         6  \\\n",
       "0  0.159104  0.127840  0.194668  0.148707 -0.113213 -0.118471  0.086854   \n",
       "1  0.091145  0.050198  0.259452  0.033187 -0.024802 -0.095558 -0.004581   \n",
       "2  0.106127  0.133097  0.202930 -0.010905 -0.051594 -0.147373  0.090241   \n",
       "3  0.211248 -0.034097  0.299233  0.105853  0.037535 -0.040176 -0.121438   \n",
       "4  0.060117  0.137613  0.301517  0.133050  0.014871 -0.153269  0.016563   \n",
       "\n",
       "          7         8         9  ...       990       991       992       993  \\\n",
       "0  0.281194 -0.031313 -0.076846  ... -0.098332 -0.118939  0.113934 -0.009238   \n",
       "1  0.196599 -0.041321  0.037035  ...  0.011026 -0.074607  0.178489  0.047545   \n",
       "2  0.522273  0.116916  0.140777  ... -0.168487 -0.145497  0.000056  0.040941   \n",
       "3  0.406516  0.051698 -0.038953  ...  0.072816 -0.210135  0.268748  0.064604   \n",
       "4  0.303499  0.085074  0.168118  ... -0.010212 -0.037607  0.105114  0.076840   \n",
       "\n",
       "        994       995       996       997       998       999  \n",
       "0  0.006367 -0.144849 -0.145922 -0.014966 -0.087658  0.115435  \n",
       "1  0.104875 -0.051214 -0.136349 -0.207822 -0.083756 -0.159096  \n",
       "2  0.071111 -0.026878 -0.315068 -0.000822 -0.088132 -0.098859  \n",
       "3 -0.109583  0.118173  0.090241 -0.268488 -0.078953 -0.174966  \n",
       "4  0.076730 -0.056583 -0.124962 -0.103746 -0.000177 -0.126717  \n",
       "\n",
       "[5 rows x 1000 columns]"
      ]
     },
     "execution_count": 41,
     "metadata": {},
     "output_type": "execute_result"
    }
   ],
   "source": [
    "dataset_word2vec = pd.concat([Q1,Q2], axis=1)\n",
    "dataset_word2vec.head()"
   ]
  },
  {
   "cell_type": "code",
   "execution_count": 42,
   "metadata": {},
   "outputs": [
    {
     "data": {
      "text/plain": [
       "question1       0\n",
       "question2       0\n",
       "is_duplicate    0\n",
       "Q1_cleaned      0\n",
       "Q2_cleaned      0\n",
       "dtype: int64"
      ]
     },
     "execution_count": 42,
     "metadata": {},
     "output_type": "execute_result"
    }
   ],
   "source": [
    "cleaned_data.isnull().sum()"
   ]
  },
  {
   "cell_type": "markdown",
   "metadata": {},
   "source": [
    "## ANN"
   ]
  },
  {
   "cell_type": "code",
   "execution_count": 65,
   "metadata": {},
   "outputs": [],
   "source": [
    "from tensorflow.keras.models import Sequential\n",
    "from tensorflow.keras.layers import Dense, LSTM, Dropout, Embedding, SpatialDropout1D, Dropout, Bidirectional\n",
    "from tensorflow.keras.callbacks import EarlyStopping, ModelCheckpoint, TensorBoard\n",
    "\n",
    "from sklearn.metrics import accuracy_score, classification_report, confusion_matrix, auc, roc_auc_score\n",
    "\n",
    "from sklearn.model_selection import train_test_split"
   ]
  },
  {
   "cell_type": "code",
   "execution_count": 44,
   "metadata": {},
   "outputs": [
    {
     "data": {
      "text/plain": [
       "((100000, 1000), (100000,))"
      ]
     },
     "execution_count": 44,
     "metadata": {},
     "output_type": "execute_result"
    }
   ],
   "source": [
    "dataset_word2vec.shape, cleaned_data['is_duplicate'].shape"
   ]
  },
  {
   "cell_type": "code",
   "execution_count": 50,
   "metadata": {},
   "outputs": [],
   "source": [
    "X_train_w2v, X_test_w2v, y_train_w2v, y_test_w2v = train_test_split(dataset_word2vec, cleaned_data['is_duplicate'], test_size=.33, random_state=42, shuffle=True)"
   ]
  },
  {
   "cell_type": "code",
   "execution_count": 51,
   "metadata": {},
   "outputs": [
    {
     "data": {
      "text/plain": [
       "0    42227\n",
       "1    24773\n",
       "Name: is_duplicate, dtype: int64"
      ]
     },
     "execution_count": 51,
     "metadata": {},
     "output_type": "execute_result"
    }
   ],
   "source": [
    "y_train_w2v.value_counts()"
   ]
  },
  {
   "cell_type": "code",
   "execution_count": 52,
   "metadata": {},
   "outputs": [
    {
     "data": {
      "text/plain": [
       "0    20717\n",
       "1    12283\n",
       "Name: is_duplicate, dtype: int64"
      ]
     },
     "execution_count": 52,
     "metadata": {},
     "output_type": "execute_result"
    }
   ],
   "source": [
    "y_test_w2v.value_counts()"
   ]
  },
  {
   "cell_type": "code",
   "execution_count": 53,
   "metadata": {},
   "outputs": [],
   "source": [
    "y_train_w2v =  np.array(y_train_w2v).reshape(-1,1)\n",
    "y_test_w2v =  np.array(y_test_w2v).reshape(-1,1)"
   ]
  },
  {
   "cell_type": "code",
   "execution_count": 54,
   "metadata": {},
   "outputs": [
    {
     "data": {
      "text/plain": [
       "((67000, 1000), (33000, 1000), (67000, 1), (33000, 1))"
      ]
     },
     "execution_count": 54,
     "metadata": {},
     "output_type": "execute_result"
    }
   ],
   "source": [
    "X_train_w2v.shape, X_test_w2v.shape, y_train_w2v.shape, y_test_w2v.shape"
   ]
  },
  {
   "cell_type": "code",
   "execution_count": 55,
   "metadata": {},
   "outputs": [
    {
     "data": {
      "text/plain": [
       "((67000, 1000), (33000, 1000), (67000, 1), (33000, 1))"
      ]
     },
     "execution_count": 55,
     "metadata": {},
     "output_type": "execute_result"
    }
   ],
   "source": [
    "X_train_w2v.shape, X_test_w2v.shape, y_train_w2v.shape, y_test_w2v.shape"
   ]
  },
  {
   "cell_type": "code",
   "execution_count": 56,
   "metadata": {},
   "outputs": [],
   "source": [
    "X_train_w2v_lstm = np.array(X_train_w2v).reshape(-1, 1, X_train_w2v.shape[1])\n",
    "X_test_w2v_lstm  = np.array(X_test_w2v).reshape(-1, 1, X_train_w2v.shape[1])\n",
    "y_train_w2v_lstm = y_train_w2v.reshape(-1, 1, 1)\n",
    "y_test_w2v_lstm = y_test_w2v.reshape(-1, 1, 1)"
   ]
  },
  {
   "cell_type": "code",
   "execution_count": 57,
   "metadata": {},
   "outputs": [
    {
     "data": {
      "text/plain": [
       "((67000, 1, 1000), (33000, 1, 1000), (67000, 1, 1), (33000, 1, 1))"
      ]
     },
     "execution_count": 57,
     "metadata": {},
     "output_type": "execute_result"
    }
   ],
   "source": [
    "X_train_w2v_lstm.shape, X_test_w2v_lstm.shape, y_train_w2v_lstm.shape, y_test_w2v_lstm.shape"
   ]
  },
  {
   "cell_type": "code",
   "execution_count": 62,
   "metadata": {},
   "outputs": [],
   "source": [
    "MODEL_NAME = 'W2V_LSTM'\n",
    "\n",
    "model = Sequential()\n",
    "\n",
    "model.add(Bidirectional(LSTM(512, input_shape=(1, X_train_w2v.shape[1]), kernel_initializer = 'he_uniform', activation = 'relu', return_sequences=True)))\n",
    "model.add(Dropout(.3))\n",
    "model.add(Bidirectional(LSTM(256, input_shape=(1, X_train_w2v.shape[1]), kernel_initializer = 'he_uniform', activation = 'relu', return_sequences=True)))\n",
    "model.add(Dropout(.3))\n",
    "model.add(Bidirectional(LSTM(128, kernel_initializer = 'he_uniform', activation='relu')))\n",
    "\n",
    "model.add(Dense(1, kernel_initializer = 'glorot_uniform', activation='sigmoid'))\n",
    "model.compile(loss = 'binary_crossentropy', optimizer='adam', metrics = ['accuracy'])"
   ]
  },
  {
   "cell_type": "code",
   "execution_count": 63,
   "metadata": {},
   "outputs": [],
   "source": [
    "my_callbacks = [\n",
    "    EarlyStopping(patience=2),\n",
    "    ModelCheckpoint(filepath='../LSTM/Callbacks/model.{epoch:02d}-{val_loss:.2f}.h5'),\n",
    "    TensorBoard(log_dir='../LSTM/logs'),\n",
    "]"
   ]
  },
  {
   "cell_type": "code",
   "execution_count": 64,
   "metadata": {},
   "outputs": [
    {
     "name": "stdout",
     "output_type": "stream",
     "text": [
      "Epoch 1/100\n",
      "66/66 [==============================] - 53s 625ms/step - loss: 0.6087 - accuracy: 0.6784 - val_loss: 0.5480 - val_accuracy: 0.7311\n",
      "Epoch 2/100\n",
      "66/66 [==============================] - 36s 541ms/step - loss: 0.5394 - accuracy: 0.7351 - val_loss: 0.5256 - val_accuracy: 0.7421\n",
      "Epoch 3/100\n",
      "66/66 [==============================] - 34s 522ms/step - loss: 0.5118 - accuracy: 0.7489 - val_loss: 0.5091 - val_accuracy: 0.7448\n",
      "Epoch 4/100\n",
      "66/66 [==============================] - 32s 489ms/step - loss: 0.4924 - accuracy: 0.7572 - val_loss: 0.4928 - val_accuracy: 0.7529\n",
      "Epoch 5/100\n",
      "66/66 [==============================] - 32s 493ms/step - loss: 0.4785 - accuracy: 0.7616 - val_loss: 0.4867 - val_accuracy: 0.7544\n",
      "Epoch 6/100\n",
      "66/66 [==============================] - 38s 575ms/step - loss: 0.4697 - accuracy: 0.7675 - val_loss: 0.4850 - val_accuracy: 0.7554\n",
      "Epoch 7/100\n",
      "66/66 [==============================] - 41s 616ms/step - loss: 0.4601 - accuracy: 0.7719 - val_loss: 0.4792 - val_accuracy: 0.7579\n",
      "Epoch 8/100\n",
      "66/66 [==============================] - 38s 570ms/step - loss: 0.4510 - accuracy: 0.7752 - val_loss: 0.4748 - val_accuracy: 0.7620\n",
      "Epoch 9/100\n",
      "66/66 [==============================] - 38s 574ms/step - loss: 0.4456 - accuracy: 0.7795 - val_loss: 0.4774 - val_accuracy: 0.7628\n",
      "Epoch 10/100\n",
      "66/66 [==============================] - 59s 897ms/step - loss: 0.4379 - accuracy: 0.7842 - val_loss: 0.4789 - val_accuracy: 0.7628\n"
     ]
    },
    {
     "data": {
      "text/plain": [
       "<keras.callbacks.History at 0x1ed178a2c70>"
      ]
     },
     "execution_count": 64,
     "metadata": {},
     "output_type": "execute_result"
    }
   ],
   "source": [
    "model.fit(X_train_w2v_lstm, y_train_w2v_lstm, validation_data=(X_test_w2v_lstm, y_test_w2v_lstm), epochs=100, batch_size=1024, callbacks=my_callbacks)"
   ]
  },
  {
   "cell_type": "code",
   "execution_count": 66,
   "metadata": {},
   "outputs": [
    {
     "name": "stdout",
     "output_type": "stream",
     "text": [
      "Training\n",
      "0.8005820895522388\n",
      "              precision    recall  f1-score   support\n",
      "\n",
      "           0       0.82      0.88      0.85     42227\n",
      "           1       0.76      0.67      0.71     24773\n",
      "\n",
      "    accuracy                           0.80     67000\n",
      "   macro avg       0.79      0.77      0.78     67000\n",
      "weighted avg       0.80      0.80      0.80     67000\n",
      "\n",
      "[[37019  5208]\n",
      " [ 8153 16620]]\n",
      "==================================\n",
      "Test\n",
      "Accuracy Score:  0.7627878787878788\n",
      "AUC:  0.7327542361686468\n",
      "              precision    recall  f1-score   support\n",
      "\n",
      "           0       0.79      0.85      0.82     20717\n",
      "           1       0.71      0.62      0.66     12283\n",
      "\n",
      "    accuracy                           0.76     33000\n",
      "   macro avg       0.75      0.73      0.74     33000\n",
      "weighted avg       0.76      0.76      0.76     33000\n",
      "\n",
      "[[17615  3102]\n",
      " [ 4726  7557]]\n"
     ]
    }
   ],
   "source": [
    "train_pred_w2v = model.predict(X_train_w2v_lstm)\n",
    "train_pred_w2v = (train_pred_w2v > 0.5)\n",
    "train_pred_w2v\n",
    "\n",
    "test_pred_w2v = model.predict(X_test_w2v_lstm)\n",
    "test_pred_w2v = (test_pred_w2v > 0.5)\n",
    "test_pred_w2v\n",
    "\n",
    "print('Training')\n",
    "print(accuracy_score(y_train_w2v, train_pred_w2v))\n",
    "print(classification_report(y_train_w2v, train_pred_w2v))\n",
    "print(confusion_matrix(y_train_w2v, train_pred_w2v))\n",
    "\n",
    "print('==================================')\n",
    "\n",
    "print('Test')\n",
    "score = accuracy_score(y_test_w2v, test_pred_w2v)\n",
    "auc_score = roc_auc_score(y_test_w2v, test_pred_w2v)\n",
    "print('Accuracy Score: ', score)\n",
    "print('AUC: ', auc_score)\n",
    "print(classification_report(y_test_w2v, test_pred_w2v))\n",
    "print(confusion_matrix(y_test_w2v, test_pred_w2v))"
   ]
  },
  {
   "cell_type": "markdown",
   "metadata": {},
   "source": [
    "## LSTM"
   ]
  },
  {
   "cell_type": "code",
   "execution_count": 72,
   "metadata": {},
   "outputs": [],
   "source": [
    "from tensorflow.keras.preprocessing.text import one_hot\n",
    "from tensorflow.keras.preprocessing.sequence import pad_sequences\n",
    "from tensorflow.keras.models import Sequential\n",
    "from tensorflow.keras.layers import Embedding, LSTM, Dense, Dropout, Bidirectional\n",
    "from tensorflow.keras.callbacks import EarlyStopping, ModelCheckpoint, TensorBoard\n",
    "import tensorflow"
   ]
  },
  {
   "cell_type": "code",
   "execution_count": 67,
   "metadata": {},
   "outputs": [
    {
     "data": {
      "text/html": [
       "<div>\n",
       "<style scoped>\n",
       "    .dataframe tbody tr th:only-of-type {\n",
       "        vertical-align: middle;\n",
       "    }\n",
       "\n",
       "    .dataframe tbody tr th {\n",
       "        vertical-align: top;\n",
       "    }\n",
       "\n",
       "    .dataframe thead th {\n",
       "        text-align: right;\n",
       "    }\n",
       "</style>\n",
       "<table border=\"1\" class=\"dataframe\">\n",
       "  <thead>\n",
       "    <tr style=\"text-align: right;\">\n",
       "      <th></th>\n",
       "      <th>Questions</th>\n",
       "      <th>Tokens</th>\n",
       "      <th>avg w2v vectorized</th>\n",
       "    </tr>\n",
       "  </thead>\n",
       "  <tbody>\n",
       "    <tr>\n",
       "      <th>0</th>\n",
       "      <td>get ripped</td>\n",
       "      <td>[get, ripped]</td>\n",
       "      <td>[0.1591037, 0.12783964, 0.19466783, 0.14870681...</td>\n",
       "    </tr>\n",
       "    <tr>\n",
       "      <th>1</th>\n",
       "      <td>connect simulink plc</td>\n",
       "      <td>[connect, simulink, plc]</td>\n",
       "      <td>[0.0911453, 0.05019818, 0.25945228, 0.03318710...</td>\n",
       "    </tr>\n",
       "    <tr>\n",
       "      <th>2</th>\n",
       "      <td>suggestions ideas improve english writing skills</td>\n",
       "      <td>[suggestions, ideas, improve, english, writing...</td>\n",
       "      <td>[0.10612717, 0.1330968, 0.20293021, -0.0109047...</td>\n",
       "    </tr>\n",
       "    <tr>\n",
       "      <th>3</th>\n",
       "      <td>buy moon</td>\n",
       "      <td>[buy, moon]</td>\n",
       "      <td>[0.21124767, -0.03409654, 0.29923323, 0.105853...</td>\n",
       "    </tr>\n",
       "    <tr>\n",
       "      <th>4</th>\n",
       "      <td>difference international company multinational...</td>\n",
       "      <td>[difference, international, company, multinati...</td>\n",
       "      <td>[0.060116827, 0.13761255, 0.30151713, 0.133050...</td>\n",
       "    </tr>\n",
       "  </tbody>\n",
       "</table>\n",
       "</div>"
      ],
      "text/plain": [
       "                                           Questions  \\\n",
       "0                                         get ripped   \n",
       "1                               connect simulink plc   \n",
       "2   suggestions ideas improve english writing skills   \n",
       "3                                           buy moon   \n",
       "4  difference international company multinational...   \n",
       "\n",
       "                                              Tokens  \\\n",
       "0                                      [get, ripped]   \n",
       "1                           [connect, simulink, plc]   \n",
       "2  [suggestions, ideas, improve, english, writing...   \n",
       "3                                        [buy, moon]   \n",
       "4  [difference, international, company, multinati...   \n",
       "\n",
       "                                  avg w2v vectorized  \n",
       "0  [0.1591037, 0.12783964, 0.19466783, 0.14870681...  \n",
       "1  [0.0911453, 0.05019818, 0.25945228, 0.03318710...  \n",
       "2  [0.10612717, 0.1330968, 0.20293021, -0.0109047...  \n",
       "3  [0.21124767, -0.03409654, 0.29923323, 0.105853...  \n",
       "4  [0.060116827, 0.13761255, 0.30151713, 0.133050...  "
      ]
     },
     "execution_count": 67,
     "metadata": {},
     "output_type": "execute_result"
    }
   ],
   "source": [
    "questions.head()"
   ]
  },
  {
   "cell_type": "code",
   "execution_count": 68,
   "metadata": {},
   "outputs": [
    {
     "data": {
      "text/plain": [
       "(200000, 3)"
      ]
     },
     "execution_count": 68,
     "metadata": {},
     "output_type": "execute_result"
    }
   ],
   "source": [
    "questions.shape"
   ]
  },
  {
   "cell_type": "code",
   "execution_count": 71,
   "metadata": {},
   "outputs": [],
   "source": [
    "voc_size = 16000\n",
    "embedding_vector_features = 500"
   ]
  },
  {
   "cell_type": "code",
   "execution_count": 73,
   "metadata": {},
   "outputs": [],
   "source": [
    "# One hot representation of words\n",
    "onehot_repr=[one_hot(sentence,voc_size) for sentence in questions['Questions']] \n",
    "#onehot_repr"
   ]
  },
  {
   "cell_type": "code",
   "execution_count": 75,
   "metadata": {},
   "outputs": [
    {
     "data": {
      "text/plain": [
       "[[10704, 15276],\n",
       " [3845, 12743, 7833],\n",
       " [14629, 3622, 2277, 12660, 6995, 12030],\n",
       " [9237, 5204],\n",
       " [5437, 690, 15819, 7369, 15819]]"
      ]
     },
     "execution_count": 75,
     "metadata": {},
     "output_type": "execute_result"
    }
   ],
   "source": [
    "onehot_repr[0:5]"
   ]
  },
  {
   "cell_type": "code",
   "execution_count": 76,
   "metadata": {},
   "outputs": [],
   "source": [
    "one_hot_dict = dict()\n",
    "\n",
    "for encodingList, tokensList in zip(onehot_repr, questions['Tokens']):\n",
    "  for index, word in zip(encodingList, tokensList):\n",
    "    one_hot_dict[word] = index\n",
    "    \n",
    "one_hot_df = pd.DataFrame(one_hot_dict.items(), columns=['Word', 'Encoded Value'])\n",
    "one_hot_df.head()\n",
    "one_hot_df.to_csv('../Datasets/One Hot Encoded Data.csv', index=False)"
   ]
  },
  {
   "cell_type": "code",
   "execution_count": 83,
   "metadata": {},
   "outputs": [],
   "source": [
    "q1_onehot_repr, q2_onehot_repr  = onehot_repr[0: middle] , onehot_repr[middle:]"
   ]
  },
  {
   "cell_type": "code",
   "execution_count": 85,
   "metadata": {},
   "outputs": [
    {
     "data": {
      "text/plain": [
       "(100000, 100000)"
      ]
     },
     "execution_count": 85,
     "metadata": {},
     "output_type": "execute_result"
    }
   ],
   "source": [
    "len(q1_onehot_repr), len(q2_onehot_repr)"
   ]
  },
  {
   "cell_type": "code",
   "execution_count": 86,
   "metadata": {},
   "outputs": [
    {
     "data": {
      "text/plain": [
       "53"
      ]
     },
     "execution_count": 86,
     "metadata": {},
     "output_type": "execute_result"
    }
   ],
   "source": [
    "# Getting what is the highest count of words in any sentence\n",
    "q1_max_count = max([len(arr) for arr in q1_onehot_repr])\n",
    "q1_max_count"
   ]
  },
  {
   "cell_type": "code",
   "execution_count": 87,
   "metadata": {},
   "outputs": [
    {
     "data": {
      "text/plain": [
       "97"
      ]
     },
     "execution_count": 87,
     "metadata": {},
     "output_type": "execute_result"
    }
   ],
   "source": [
    "# Getting what is the highest count of words in any sentence\n",
    "q2_max_count = max([len(arr) for arr in q2_onehot_repr])\n",
    "q2_max_count"
   ]
  },
  {
   "cell_type": "code",
   "execution_count": 88,
   "metadata": {},
   "outputs": [
    {
     "name": "stdout",
     "output_type": "stream",
     "text": [
      "[[    0     0     0 ...     0 10704 15276]\n",
      " [    0     0     0 ...  3845 12743  7833]\n",
      " [    0     0     0 ... 12660  6995 12030]\n",
      " ...\n",
      " [    0     0     0 ...  9964  4112 15106]\n",
      " [    0     0     0 ...     0     0  7967]\n",
      " [    0     0     0 ... 13122 13959 15577]]\n"
     ]
    }
   ],
   "source": [
    "# Embedding the sentences\n",
    "q1_embedded_docs = pad_sequences(q1_onehot_repr,padding='pre',maxlen=q1_max_count)\n",
    "print(q1_embedded_docs)"
   ]
  },
  {
   "cell_type": "code",
   "execution_count": 89,
   "metadata": {},
   "outputs": [
    {
     "name": "stdout",
     "output_type": "stream",
     "text": [
      "[[    0     0     0 ... 10704 15276  2471]\n",
      " [    0     0     0 ...  6260  2521 13892]\n",
      " [    0     0     0 ... 12030 11212   436]\n",
      " ...\n",
      " [    0     0     0 ...  9964  4112 15106]\n",
      " [    0     0     0 ...   766 12991 11031]\n",
      " [    0     0     0 ... 13122 13959 15577]]\n"
     ]
    }
   ],
   "source": [
    "# Embedding the sentences\n",
    "q2_embedded_docs = pad_sequences(q2_onehot_repr,padding='pre',maxlen=q2_max_count)\n",
    "print(q2_embedded_docs)"
   ]
  },
  {
   "cell_type": "code",
   "execution_count": 92,
   "metadata": {},
   "outputs": [
    {
     "data": {
      "text/plain": [
       "(100000, 100000)"
      ]
     },
     "execution_count": 92,
     "metadata": {},
     "output_type": "execute_result"
    }
   ],
   "source": [
    "len(q1_embedded_docs), len(q2_embedded_docs)"
   ]
  },
  {
   "cell_type": "code",
   "execution_count": 93,
   "metadata": {},
   "outputs": [
    {
     "data": {
      "text/plain": [
       "(53, 97)"
      ]
     },
     "execution_count": 93,
     "metadata": {},
     "output_type": "execute_result"
    }
   ],
   "source": [
    "len(q1_embedded_docs[0]), len(q2_embedded_docs[0])"
   ]
  },
  {
   "cell_type": "code",
   "execution_count": 94,
   "metadata": {},
   "outputs": [
    {
     "data": {
      "text/html": [
       "<div>\n",
       "<style scoped>\n",
       "    .dataframe tbody tr th:only-of-type {\n",
       "        vertical-align: middle;\n",
       "    }\n",
       "\n",
       "    .dataframe tbody tr th {\n",
       "        vertical-align: top;\n",
       "    }\n",
       "\n",
       "    .dataframe thead th {\n",
       "        text-align: right;\n",
       "    }\n",
       "</style>\n",
       "<table border=\"1\" class=\"dataframe\">\n",
       "  <thead>\n",
       "    <tr style=\"text-align: right;\">\n",
       "      <th></th>\n",
       "      <th>0</th>\n",
       "      <th>1</th>\n",
       "      <th>2</th>\n",
       "      <th>3</th>\n",
       "      <th>4</th>\n",
       "      <th>5</th>\n",
       "      <th>6</th>\n",
       "      <th>7</th>\n",
       "      <th>8</th>\n",
       "      <th>9</th>\n",
       "      <th>...</th>\n",
       "      <th>140</th>\n",
       "      <th>141</th>\n",
       "      <th>142</th>\n",
       "      <th>143</th>\n",
       "      <th>144</th>\n",
       "      <th>145</th>\n",
       "      <th>146</th>\n",
       "      <th>147</th>\n",
       "      <th>148</th>\n",
       "      <th>149</th>\n",
       "    </tr>\n",
       "  </thead>\n",
       "  <tbody>\n",
       "    <tr>\n",
       "      <th>0</th>\n",
       "      <td>0</td>\n",
       "      <td>0</td>\n",
       "      <td>0</td>\n",
       "      <td>0</td>\n",
       "      <td>0</td>\n",
       "      <td>0</td>\n",
       "      <td>0</td>\n",
       "      <td>0</td>\n",
       "      <td>0</td>\n",
       "      <td>0</td>\n",
       "      <td>...</td>\n",
       "      <td>0</td>\n",
       "      <td>0</td>\n",
       "      <td>0</td>\n",
       "      <td>0</td>\n",
       "      <td>0</td>\n",
       "      <td>0</td>\n",
       "      <td>0</td>\n",
       "      <td>10704</td>\n",
       "      <td>15276</td>\n",
       "      <td>2471</td>\n",
       "    </tr>\n",
       "    <tr>\n",
       "      <th>1</th>\n",
       "      <td>0</td>\n",
       "      <td>0</td>\n",
       "      <td>0</td>\n",
       "      <td>0</td>\n",
       "      <td>0</td>\n",
       "      <td>0</td>\n",
       "      <td>0</td>\n",
       "      <td>0</td>\n",
       "      <td>0</td>\n",
       "      <td>0</td>\n",
       "      <td>...</td>\n",
       "      <td>13560</td>\n",
       "      <td>6857</td>\n",
       "      <td>3598</td>\n",
       "      <td>5763</td>\n",
       "      <td>523</td>\n",
       "      <td>11418</td>\n",
       "      <td>5124</td>\n",
       "      <td>6260</td>\n",
       "      <td>2521</td>\n",
       "      <td>13892</td>\n",
       "    </tr>\n",
       "    <tr>\n",
       "      <th>2</th>\n",
       "      <td>0</td>\n",
       "      <td>0</td>\n",
       "      <td>0</td>\n",
       "      <td>0</td>\n",
       "      <td>0</td>\n",
       "      <td>0</td>\n",
       "      <td>0</td>\n",
       "      <td>0</td>\n",
       "      <td>0</td>\n",
       "      <td>0</td>\n",
       "      <td>...</td>\n",
       "      <td>0</td>\n",
       "      <td>0</td>\n",
       "      <td>0</td>\n",
       "      <td>0</td>\n",
       "      <td>2277</td>\n",
       "      <td>12660</td>\n",
       "      <td>6995</td>\n",
       "      <td>12030</td>\n",
       "      <td>11212</td>\n",
       "      <td>436</td>\n",
       "    </tr>\n",
       "    <tr>\n",
       "      <th>3</th>\n",
       "      <td>0</td>\n",
       "      <td>0</td>\n",
       "      <td>0</td>\n",
       "      <td>0</td>\n",
       "      <td>0</td>\n",
       "      <td>0</td>\n",
       "      <td>0</td>\n",
       "      <td>0</td>\n",
       "      <td>0</td>\n",
       "      <td>0</td>\n",
       "      <td>...</td>\n",
       "      <td>0</td>\n",
       "      <td>0</td>\n",
       "      <td>0</td>\n",
       "      <td>0</td>\n",
       "      <td>0</td>\n",
       "      <td>0</td>\n",
       "      <td>0</td>\n",
       "      <td>6083</td>\n",
       "      <td>11611</td>\n",
       "      <td>5204</td>\n",
       "    </tr>\n",
       "    <tr>\n",
       "      <th>4</th>\n",
       "      <td>0</td>\n",
       "      <td>0</td>\n",
       "      <td>0</td>\n",
       "      <td>0</td>\n",
       "      <td>0</td>\n",
       "      <td>0</td>\n",
       "      <td>0</td>\n",
       "      <td>0</td>\n",
       "      <td>0</td>\n",
       "      <td>0</td>\n",
       "      <td>...</td>\n",
       "      <td>0</td>\n",
       "      <td>0</td>\n",
       "      <td>0</td>\n",
       "      <td>0</td>\n",
       "      <td>0</td>\n",
       "      <td>0</td>\n",
       "      <td>1320</td>\n",
       "      <td>2082</td>\n",
       "      <td>7369</td>\n",
       "      <td>11848</td>\n",
       "    </tr>\n",
       "  </tbody>\n",
       "</table>\n",
       "<p>5 rows × 150 columns</p>\n",
       "</div>"
      ],
      "text/plain": [
       "   0    1    2    3    4    5    6    7    8    9    ...    140   141   142  \\\n",
       "0    0    0    0    0    0    0    0    0    0    0  ...      0     0     0   \n",
       "1    0    0    0    0    0    0    0    0    0    0  ...  13560  6857  3598   \n",
       "2    0    0    0    0    0    0    0    0    0    0  ...      0     0     0   \n",
       "3    0    0    0    0    0    0    0    0    0    0  ...      0     0     0   \n",
       "4    0    0    0    0    0    0    0    0    0    0  ...      0     0     0   \n",
       "\n",
       "    143   144    145   146    147    148    149  \n",
       "0     0     0      0     0  10704  15276   2471  \n",
       "1  5763   523  11418  5124   6260   2521  13892  \n",
       "2     0  2277  12660  6995  12030  11212    436  \n",
       "3     0     0      0     0   6083  11611   5204  \n",
       "4     0     0      0  1320   2082   7369  11848  \n",
       "\n",
       "[5 rows x 150 columns]"
      ]
     },
     "execution_count": 94,
     "metadata": {},
     "output_type": "execute_result"
    }
   ],
   "source": [
    "q1_embedded_docs = np.array(q1_embedded_docs)\n",
    "q2_embedded_docs = np.array(q2_embedded_docs)\n",
    "\n",
    "data = np.hstack((q1_embedded_docs, q2_embedded_docs))\n",
    "embedded_df = pd.DataFrame(data)\n",
    "embedded_df.head()"
   ]
  },
  {
   "cell_type": "code",
   "execution_count": 102,
   "metadata": {},
   "outputs": [],
   "source": [
    "model=Sequential()\n",
    "model.add(Embedding(voc_size,embedding_vector_features,input_length=embedded_df.shape[1]))\n",
    "model.add(Dropout(0.3))\n",
    "model.add(Bidirectional(LSTM(200, kernel_initializer  = 'he_uniform', return_sequences=True)))\n",
    "model.add(Bidirectional(LSTM(100, kernel_initializer  = 'he_uniform')))\n",
    "\n",
    "model.add(Dense(1,activation='sigmoid'))\n",
    "model.compile(loss='binary_crossentropy',optimizer='adam',metrics=['accuracy'])\n"
   ]
  },
  {
   "cell_type": "code",
   "execution_count": 96,
   "metadata": {},
   "outputs": [],
   "source": [
    "my_callbacks_lstm = [\n",
    "    EarlyStopping(patience=2),\n",
    "    ModelCheckpoint(filepath='../LSTM_WordEmbeddings/Callbacks/model.{epoch:02d}-{val_loss:.2f}.h5'),\n",
    "    TensorBoard(log_dir='../LSTM_WordEmbeddings/logs'),\n",
    "]"
   ]
  },
  {
   "cell_type": "code",
   "execution_count": 98,
   "metadata": {},
   "outputs": [],
   "source": [
    "X_LSTM = embedded_df.copy()\n",
    "y_LSTM = np.array(cleaned_data['is_duplicate'])"
   ]
  },
  {
   "cell_type": "code",
   "execution_count": 99,
   "metadata": {},
   "outputs": [
    {
     "data": {
      "text/plain": [
       "((100000, 150), (100000,))"
      ]
     },
     "execution_count": 99,
     "metadata": {},
     "output_type": "execute_result"
    }
   ],
   "source": [
    "X_LSTM.shape, y_LSTM.shape"
   ]
  },
  {
   "cell_type": "code",
   "execution_count": 100,
   "metadata": {},
   "outputs": [],
   "source": [
    "X_train_lstm, X_test_lstm, y_train_lstm, y_test_lstm = train_test_split(X_LSTM, y_LSTM, test_size=.33, random_state=42, shuffle=True)"
   ]
  },
  {
   "cell_type": "code",
   "execution_count": 103,
   "metadata": {},
   "outputs": [
    {
     "name": "stdout",
     "output_type": "stream",
     "text": [
      "Epoch 1/100\n",
      " 8/66 [==>...........................] - ETA: 29:52 - loss: 0.6641 - accuracy: 0.6228"
     ]
    }
   ],
   "source": [
    "model.fit(X_train_lstm, y_train_lstm, validation_data=(X_test_lstm, y_test_lstm), epochs=100, batch_size=1024, callbacks=my_callbacks_lstm)"
   ]
  }
 ],
 "metadata": {
  "interpreter": {
   "hash": "15b0f7c0327bc3a4a4e9cf399fe7d734dcb10d0bce3f7ceee96ebdab990e082a"
  },
  "kernelspec": {
   "display_name": "Python 3.9.6 64-bit",
   "language": "python",
   "name": "python3"
  },
  "language_info": {
   "codemirror_mode": {
    "name": "ipython",
    "version": 3
   },
   "file_extension": ".py",
   "mimetype": "text/x-python",
   "name": "python",
   "nbconvert_exporter": "python",
   "pygments_lexer": "ipython3",
   "version": "3.9.6"
  },
  "orig_nbformat": 4
 },
 "nbformat": 4,
 "nbformat_minor": 2
}
